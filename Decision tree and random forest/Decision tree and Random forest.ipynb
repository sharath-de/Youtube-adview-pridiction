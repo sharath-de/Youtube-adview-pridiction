{
 "cells": [
  {
   "cell_type": "markdown",
   "metadata": {
    "colab_type": "text",
    "id": "NEErKiVjN0QX"
   },
   "source": [
    "# Decision Trees"
   ]
  },
  {
   "cell_type": "code",
   "execution_count": 1,
   "metadata": {
    "colab": {},
    "colab_type": "code",
    "id": "MP-dAMqfI8Ig"
   },
   "outputs": [
    {
     "ename": "ModuleNotFoundError",
     "evalue": "No module named 'pydotplus'",
     "output_type": "error",
     "traceback": [
      "\u001b[1;31m---------------------------------------------------------------------------\u001b[0m",
      "\u001b[1;31mModuleNotFoundError\u001b[0m                       Traceback (most recent call last)",
      "\u001b[1;32m<ipython-input-1-ab2f481420c9>\u001b[0m in \u001b[0;36m<module>\u001b[1;34m\u001b[0m\n\u001b[1;32m----> 1\u001b[1;33m \u001b[1;32mimport\u001b[0m \u001b[0mpydotplus\u001b[0m\u001b[1;33m\u001b[0m\u001b[1;33m\u001b[0m\u001b[0m\n\u001b[0m\u001b[0;32m      2\u001b[0m \u001b[1;32mfrom\u001b[0m \u001b[0msklearn\u001b[0m\u001b[1;33m.\u001b[0m\u001b[0mtree\u001b[0m \u001b[1;32mimport\u001b[0m \u001b[0mDecisionTreeClassifier\u001b[0m\u001b[1;33m\u001b[0m\u001b[1;33m\u001b[0m\u001b[0m\n\u001b[0;32m      3\u001b[0m \u001b[1;32mfrom\u001b[0m \u001b[0msklearn\u001b[0m \u001b[1;32mimport\u001b[0m \u001b[0mdatasets\u001b[0m\u001b[1;33m\u001b[0m\u001b[1;33m\u001b[0m\u001b[0m\n",
      "\u001b[1;31mModuleNotFoundError\u001b[0m: No module named 'pydotplus'"
     ]
    }
   ],
   "source": [
    "import pydotplus\n",
    "from sklearn.tree import DecisionTreeClassifier \n",
    "from sklearn import datasets"
   ]
  },
  {
   "cell_type": "code",
   "execution_count": null,
   "metadata": {
    "colab": {},
    "colab_type": "code",
    "id": "gEa3HdqYJg_V"
   },
   "outputs": [],
   "source": [
    "iris = datasets.load_iris() \n",
    "features = iris.data \n",
    "target = iris.target\n",
    "\n",
    "print(features)\n",
    "print(target)"
   ]
  },
  {
   "cell_type": "code",
   "execution_count": null,
   "metadata": {
    "colab": {},
    "colab_type": "code",
    "id": "8eeeghQFJtrL"
   },
   "outputs": [],
   "source": [
    "decisiontree = DecisionTreeClassifier() "
   ]
  },
  {
   "cell_type": "code",
   "execution_count": null,
   "metadata": {
    "colab": {},
    "colab_type": "code",
    "id": "-UdVhYSkJv_Z"
   },
   "outputs": [],
   "source": [
    "model = decisiontree.fit(features, target)"
   ]
  },
  {
   "cell_type": "code",
   "execution_count": null,
   "metadata": {
    "colab": {},
    "colab_type": "code",
    "id": "VNZsZ5uEJx9K"
   },
   "outputs": [],
   "source": [
    "observation = [[ 5, 4, 3, 2]] # Predict observation's class\n",
    "model.predict(observation)\n",
    "model.predict_proba(observation)"
   ]
  },
  {
   "cell_type": "code",
   "execution_count": null,
   "metadata": {
    "colab": {},
    "colab_type": "code",
    "id": "5jYFh77MJ1Hj"
   },
   "outputs": [],
   "source": [
    "from sklearn import tree\n",
    "\n",
    "dot_data = tree.export_graphviz(decisiontree, out_file=None,\n",
    "feature_names=iris.feature_names, \n",
    "class_names=iris.target_names\n",
    ")"
   ]
  },
  {
   "cell_type": "code",
   "execution_count": null,
   "metadata": {
    "colab": {},
    "colab_type": "code",
    "id": "tbEdmddKJ9dE"
   },
   "outputs": [],
   "source": [
    "from IPython.display import Image\n",
    "\n",
    "graph = pydotplus.graph_from_dot_data(dot_data) # Show graph\n",
    "\n",
    "Image(graph.create_png()) "
   ]
  },
  {
   "cell_type": "code",
   "execution_count": null,
   "metadata": {
    "colab": {},
    "colab_type": "code",
    "id": "dWbiwt1p7J5W"
   },
   "outputs": [],
   "source": [
    "#example-2"
   ]
  },
  {
   "cell_type": "code",
   "execution_count": null,
   "metadata": {
    "colab": {},
    "colab_type": "code",
    "id": "8CtSYnP1Kisy"
   },
   "outputs": [],
   "source": [
    "import numpy as np\n",
    "import pandas as pd\n",
    "import matplotlib.pyplot as plt\n",
    "\n",
    "#Loading the dataset\n",
    "df = pd.read_csv('Salary_Data.csv').values\n",
    "#Specify dependent and independent veraibles\n",
    "x = df[:, :-1]   #last coloumn is left behind.\n",
    "y = df[:, -1]"
   ]
  },
  {
   "cell_type": "code",
   "execution_count": null,
   "metadata": {
    "colab": {},
    "colab_type": "code",
    "id": "wLkG19yJKlKy"
   },
   "outputs": [],
   "source": [
    "print(x)\n",
    "print(y)"
   ]
  },
  {
   "cell_type": "code",
   "execution_count": 2,
   "metadata": {
    "colab": {},
    "colab_type": "code",
    "id": "7Fgq6lnmKn2I"
   },
   "outputs": [
    {
     "ename": "NameError",
     "evalue": "name 'plt' is not defined",
     "output_type": "error",
     "traceback": [
      "\u001b[1;31m---------------------------------------------------------------------------\u001b[0m",
      "\u001b[1;31mNameError\u001b[0m                                 Traceback (most recent call last)",
      "\u001b[1;32m<ipython-input-2-ed1ec603bdf2>\u001b[0m in \u001b[0;36m<module>\u001b[1;34m\u001b[0m\n\u001b[0;32m      1\u001b[0m \u001b[1;31m#scattering\u001b[0m\u001b[1;33m\u001b[0m\u001b[1;33m\u001b[0m\u001b[1;33m\u001b[0m\u001b[0m\n\u001b[1;32m----> 2\u001b[1;33m \u001b[0mplt\u001b[0m\u001b[1;33m.\u001b[0m\u001b[0mscatter\u001b[0m\u001b[1;33m(\u001b[0m\u001b[0mx\u001b[0m\u001b[1;33m,\u001b[0m\u001b[0my\u001b[0m\u001b[1;33m)\u001b[0m\u001b[1;33m\u001b[0m\u001b[1;33m\u001b[0m\u001b[0m\n\u001b[0m",
      "\u001b[1;31mNameError\u001b[0m: name 'plt' is not defined"
     ]
    }
   ],
   "source": [
    "#scattering\n",
    "plt.scatter(x,y)\n"
   ]
  },
  {
   "cell_type": "code",
   "execution_count": null,
   "metadata": {
    "colab": {},
    "colab_type": "code",
    "id": "MrDHNwI8KrFL"
   },
   "outputs": [],
   "source": [
    "# Importing decision tree class\n",
    "from sklearn.tree import DecisionTreeRegressor"
   ]
  },
  {
   "cell_type": "code",
   "execution_count": null,
   "metadata": {
    "colab": {},
    "colab_type": "code",
    "id": "Ngt9sipfKuWq"
   },
   "outputs": [],
   "source": [
    "#1 Create decision tree object\n",
    "model=DecisionTreeRegressor(max_depth=100)"
   ]
  },
  {
   "cell_type": "code",
   "execution_count": null,
   "metadata": {
    "colab": {},
    "colab_type": "code",
    "id": "EDhf3dlhKwcN"
   },
   "outputs": [],
   "source": [
    "#2 Train the model using the training sets\n",
    "model.fit(x,y)"
   ]
  },
  {
   "cell_type": "code",
   "execution_count": null,
   "metadata": {
    "colab": {},
    "colab_type": "code",
    "id": "vUX_3MXJK0do"
   },
   "outputs": [],
   "source": [
    "#Predicting the Test Set Results\n",
    "y_pred=model.predict(x)              #we can predict the salary of 7.5yrs\n",
    "print(y_pred)"
   ]
  },
  {
   "cell_type": "code",
   "execution_count": null,
   "metadata": {
    "colab": {},
    "colab_type": "code",
    "id": "6Q3j166IK3fH"
   },
   "outputs": [],
   "source": [
    "#For high resolution\n",
    "x_grid=np.arange(min (x),max (x),0.01).reshape(-1,1)\n",
    "y_pred=model.predict(x_grid)\n",
    "y_pred"
   ]
  },
  {
   "cell_type": "code",
   "execution_count": null,
   "metadata": {
    "colab": {},
    "colab_type": "code",
    "id": "yhAM3rtiLALm"
   },
   "outputs": [],
   "source": [
    "#scattering\n",
    "plt.scatter(x,y)\n",
    "\n",
    "#plt.scatter(X_test, y_test, color='red')\n",
    "plt.plot(x_grid,y_pred,color='red')\n",
    "\n"
   ]
  },
  {
   "cell_type": "code",
   "execution_count": null,
   "metadata": {
    "colab": {},
    "colab_type": "code",
    "id": "IjXDiUl3LLO2"
   },
   "outputs": [],
   "source": []
  },
  {
   "cell_type": "code",
   "execution_count": null,
   "metadata": {
    "colab": {},
    "colab_type": "code",
    "id": "rHoguXNr7F4t"
   },
   "outputs": [],
   "source": [
    "#example-3"
   ]
  },
  {
   "cell_type": "code",
   "execution_count": null,
   "metadata": {
    "colab": {},
    "colab_type": "code",
    "id": "bOzu-tQrM3Mx"
   },
   "outputs": [],
   "source": [
    "import numpy as np\n",
    "import pandas as pd\n",
    "import matplotlib.pyplot as plt\n",
    "\n",
    "#Loading the dataset\n",
    "df = pd.read_csv('gunpowder.csv').values\n",
    "#Specify dependent and independent veraibles\n",
    "x = df[:, :-1]   #last coloumn is left behind.\n",
    "y = df[:, -1]\n",
    "\n",
    "df"
   ]
  },
  {
   "cell_type": "code",
   "execution_count": null,
   "metadata": {
    "colab": {},
    "colab_type": "code",
    "id": "qfs4JC6bM6_t"
   },
   "outputs": [],
   "source": [
    "print(x)\n",
    "print(y)"
   ]
  },
  {
   "cell_type": "code",
   "execution_count": null,
   "metadata": {
    "colab": {},
    "colab_type": "code",
    "id": "B9Uw5tUENEO_"
   },
   "outputs": [],
   "source": [
    "#scattering\n",
    "plt.scatter(x,y)\n",
    "\n"
   ]
  },
  {
   "cell_type": "code",
   "execution_count": null,
   "metadata": {
    "colab": {},
    "colab_type": "code",
    "id": "gQerTzNKNTxB"
   },
   "outputs": [],
   "source": [
    "# Importing decision tree class\n",
    "from sklearn.tree import DecisionTreeRegressor\n",
    "\n",
    "#1 Create decision tree object\n",
    "model=DecisionTreeRegressor()\n",
    "\n"
   ]
  },
  {
   "cell_type": "code",
   "execution_count": null,
   "metadata": {
    "colab": {},
    "colab_type": "code",
    "id": "aTq9HI7eNXDc"
   },
   "outputs": [],
   "source": [
    "#2 Train the model using the training sets\n",
    "model.fit(x,y)\n",
    "\n"
   ]
  },
  {
   "cell_type": "code",
   "execution_count": null,
   "metadata": {
    "colab": {},
    "colab_type": "code",
    "id": "njEkL_aiNZkV"
   },
   "outputs": [],
   "source": [
    "#Predicting the Test Set Results\n",
    "y_pred=model.predict(x)\n",
    "print(y_pred)"
   ]
  },
  {
   "cell_type": "code",
   "execution_count": null,
   "metadata": {
    "colab": {},
    "colab_type": "code",
    "id": "NHYpYrxQNcJF"
   },
   "outputs": [],
   "source": [
    "#Visualising the Training & Test Set Results\n",
    "plt.scatter(x,y)\n",
    "\n",
    "#plt.scatter(X_test, y_test, color='red')\n",
    "plt.plot(x,y_pred,color='red')\n",
    "\n"
   ]
  },
  {
   "cell_type": "code",
   "execution_count": null,
   "metadata": {
    "colab": {},
    "colab_type": "code",
    "id": "ODV25ih2Nf_H"
   },
   "outputs": [],
   "source": [
    "#For high resolotuion\n",
    "x_grid=np.arange(min (x),max (x),0.1).reshape(-1,1)\n",
    "y_pred=model.predict(x_grid)\n",
    "y_pred"
   ]
  },
  {
   "cell_type": "code",
   "execution_count": null,
   "metadata": {
    "colab": {},
    "colab_type": "code",
    "id": "pGKVER4zNke3"
   },
   "outputs": [],
   "source": []
  },
  {
   "cell_type": "code",
   "execution_count": null,
   "metadata": {
    "colab": {},
    "colab_type": "code",
    "id": "k0P6dJxZNqE3"
   },
   "outputs": [],
   "source": [
    "#example-4"
   ]
  },
  {
   "cell_type": "code",
   "execution_count": null,
   "metadata": {
    "colab": {},
    "colab_type": "code",
    "id": "SZ4-2B0t7Sos"
   },
   "outputs": [],
   "source": [
    "import pandas as pd\n",
    "import numpy as np\n",
    "import matplotlib.pyplot as plt"
   ]
  },
  {
   "cell_type": "code",
   "execution_count": null,
   "metadata": {
    "colab": {},
    "colab_type": "code",
    "id": "Hj1ApAke7Rzx"
   },
   "outputs": [],
   "source": [
    "#Importing the data\n",
    "df =pd.read_csv('Chip_test.csv').values\n",
    "df.shape"
   ]
  },
  {
   "cell_type": "code",
   "execution_count": null,
   "metadata": {
    "colab": {},
    "colab_type": "code",
    "id": "zH6gDvwY7RwM"
   },
   "outputs": [],
   "source": [
    "x= df[:, 0:2 ]\n",
    "y= df[:, -1] "
   ]
  },
  {
   "cell_type": "code",
   "execution_count": null,
   "metadata": {
    "colab": {},
    "colab_type": "code",
    "id": "VOvMD_zL7hFU"
   },
   "outputs": [],
   "source": [
    "x, y\n"
   ]
  },
  {
   "cell_type": "code",
   "execution_count": null,
   "metadata": {
    "colab": {},
    "colab_type": "code",
    "id": "AcMAcaRu7RsR"
   },
   "outputs": [],
   "source": [
    "# Splitting the dataset into the Training set and Test set\n",
    "from sklearn.model_selection import train_test_split\n",
    "x_train, x_test, y_train, y_test = train_test_split(x, y, test_size = 0.25) "
   ]
  },
  {
   "cell_type": "code",
   "execution_count": null,
   "metadata": {
    "colab": {},
    "colab_type": "code",
    "id": "4qaTp5jH7Ros"
   },
   "outputs": [],
   "source": [
    "#Fitting DT classifier to Training Set\n",
    "from sklearn.tree import DecisionTreeClassifier\n",
    "model= DecisionTreeClassifier()"
   ]
  },
  {
   "cell_type": "code",
   "execution_count": null,
   "metadata": {
    "colab": {},
    "colab_type": "code",
    "id": "NoqVe3AJ7Rk4"
   },
   "outputs": [],
   "source": [
    "model.fit(x_train,y_train)"
   ]
  },
  {
   "cell_type": "code",
   "execution_count": null,
   "metadata": {
    "colab": {},
    "colab_type": "code",
    "id": "0U3Ymz_I7Rgy"
   },
   "outputs": [],
   "source": [
    "#Predicting the Test Set Results\n",
    "y_pred = model.predict(x_test)\n",
    "y_pred"
   ]
  },
  {
   "cell_type": "code",
   "execution_count": null,
   "metadata": {
    "colab": {},
    "colab_type": "code",
    "id": "8DJbLpn57RdE"
   },
   "outputs": [],
   "source": [
    "from sklearn.metrics import confusion_matrix\n",
    "cm = confusion_matrix(y_test,y_pred)\n",
    "cm"
   ]
  },
  {
   "cell_type": "code",
   "execution_count": null,
   "metadata": {
    "colab": {},
    "colab_type": "code",
    "id": "M00yszl77eKe"
   },
   "outputs": [],
   "source": []
  },
  {
   "cell_type": "code",
   "execution_count": null,
   "metadata": {
    "colab": {},
    "colab_type": "code",
    "id": "GnKd9pi_7d3E"
   },
   "outputs": [],
   "source": []
  },
  {
   "cell_type": "markdown",
   "metadata": {
    "colab_type": "text",
    "id": "hCd1DG50Nt2R"
   },
   "source": [
    "#Random Forest\n",
    "\n"
   ]
  },
  {
   "cell_type": "code",
   "execution_count": null,
   "metadata": {
    "colab": {
     "base_uri": "https://localhost:8080/",
     "height": 516
    },
    "colab_type": "code",
    "id": "uARiLAkXOEvQ",
    "outputId": "98817f39-767e-469b-9699-20e20ce8c336"
   },
   "outputs": [],
   "source": [
    "\n",
    "import numpy as np\n",
    "import pandas as pd\n",
    "import matplotlib.pyplot as plt\n",
    "\n",
    "#Loading the dataset\n",
    "df = pd.read_csv('Salary_Data.csv').values\n",
    "df"
   ]
  },
  {
   "cell_type": "code",
   "execution_count": null,
   "metadata": {
    "colab": {
     "base_uri": "https://localhost:8080/",
     "height": 583
    },
    "colab_type": "code",
    "id": "Qp14rcGfd8FM",
    "outputId": "d1d7b1a1-238f-4779-aa57-bfb30fa152a9"
   },
   "outputs": [],
   "source": [
    "#Specify dependent and independent veraibles\n",
    "x = df[:, :-1]                                   #last coloumn is left behind.\n",
    "y = df[:, -1]\n",
    "print(x)\n",
    "print(y)\n"
   ]
  },
  {
   "cell_type": "code",
   "execution_count": null,
   "metadata": {
    "colab": {
     "base_uri": "https://localhost:8080/",
     "height": 281
    },
    "colab_type": "code",
    "id": "0lvRAWcoWUR6",
    "outputId": "1411ad85-92ee-4209-9587-6ddc91f30714"
   },
   "outputs": [],
   "source": [
    "#scattering\n",
    "plt.scatter(x,y)"
   ]
  },
  {
   "cell_type": "code",
   "execution_count": null,
   "metadata": {
    "colab": {},
    "colab_type": "code",
    "id": "PKfCWESXWT7z"
   },
   "outputs": [],
   "source": [
    "# Importing random forest class\n",
    "from sklearn.ensemble import RandomForestRegressor\n"
   ]
  },
  {
   "cell_type": "code",
   "execution_count": null,
   "metadata": {
    "colab": {},
    "colab_type": "code",
    "id": "iFFCyTtZeJ_F"
   },
   "outputs": [],
   "source": [
    "#1 Create decision tree object\n",
    "model=RandomForestRegressor(n_estimators=50)"
   ]
  },
  {
   "cell_type": "code",
   "execution_count": null,
   "metadata": {
    "colab": {
     "base_uri": "https://localhost:8080/",
     "height": 133
    },
    "colab_type": "code",
    "id": "ILXkmGIbeJ8Y",
    "outputId": "b3ab089e-d2b1-4f1b-d029-3cca621913d8"
   },
   "outputs": [],
   "source": [
    "#2 Train the model using the training sets\n",
    "model.fit(x,y)"
   ]
  },
  {
   "cell_type": "code",
   "execution_count": null,
   "metadata": {
    "colab": {
     "base_uri": "https://localhost:8080/",
     "height": 150
    },
    "colab_type": "code",
    "id": "cF-OS8bPeJ6D",
    "outputId": "9640a0c5-7ed5-4ca3-bc70-cdc3d10a218f"
   },
   "outputs": [],
   "source": [
    "#Predicting the Test Set Results\n",
    "y_pred=model.predict(x)                     \n",
    "y_pred"
   ]
  },
  {
   "cell_type": "code",
   "execution_count": null,
   "metadata": {
    "colab": {
     "base_uri": "https://localhost:8080/",
     "height": 281
    },
    "colab_type": "code",
    "id": "Kr2kSUl5eJ3x",
    "outputId": "55af5e4d-23cb-4335-9e0c-f0ae47f25a78"
   },
   "outputs": [],
   "source": [
    "#plt.scatter(X_test, y_test, color='red')\n",
    "plt.plot(x,y_pred,color='red')\n"
   ]
  },
  {
   "cell_type": "code",
   "execution_count": null,
   "metadata": {
    "colab": {
     "base_uri": "https://localhost:8080/",
     "height": 33
    },
    "colab_type": "code",
    "id": "CwQdQ9IeeJ1l",
    "outputId": "481a0cdb-ffb7-4ebb-df41-fee9841394c3"
   },
   "outputs": [],
   "source": [
    "#test accuracy of prediction\n",
    "#it should closer to 1\n",
    "from sklearn.metrics import mean_squared_error,r2_score\n",
    "msc=mean_squared_error(y,y_pred)      #lesser the value ,more accurate\n",
    "r2_score=r2_score(y,y_pred)  \n",
    "print(msc)\n"
   ]
  },
  {
   "cell_type": "code",
   "execution_count": null,
   "metadata": {
    "colab": {
     "base_uri": "https://localhost:8080/",
     "height": 33
    },
    "colab_type": "code",
    "id": "D5AS42DtedJ6",
    "outputId": "5ec8d1f5-1a31-4e73-d83f-1888c4c718d8"
   },
   "outputs": [],
   "source": [
    "print(r2_score)"
   ]
  },
  {
   "cell_type": "code",
   "execution_count": null,
   "metadata": {
    "colab": {},
    "colab_type": "code",
    "id": "Jeeb7ZdUedFc"
   },
   "outputs": [],
   "source": [
    "#example-2"
   ]
  },
  {
   "cell_type": "code",
   "execution_count": null,
   "metadata": {
    "colab": {},
    "colab_type": "code",
    "id": "DGIqMsc2kb5h"
   },
   "outputs": [],
   "source": [
    "import numpy as np\n",
    "import matplotlib.pyplot as plt\n",
    "import pandas as pd"
   ]
  },
  {
   "cell_type": "code",
   "execution_count": null,
   "metadata": {
    "colab": {},
    "colab_type": "code",
    "id": "7L8q5X-2WXvR"
   },
   "outputs": [],
   "source": [
    "path = \"https://archive.ics.uci.edu/ml/machine-learning-databases/iris/iris.data\"\n"
   ]
  },
  {
   "cell_type": "code",
   "execution_count": null,
   "metadata": {
    "colab": {},
    "colab_type": "code",
    "id": "a00GEJCAWau3"
   },
   "outputs": [],
   "source": [
    "headernames = ['sepal-length', 'sepal-width', 'petal-length', 'petal-width', 'Class']\n"
   ]
  },
  {
   "cell_type": "code",
   "execution_count": null,
   "metadata": {
    "colab": {
     "base_uri": "https://localhost:8080/",
     "height": 197
    },
    "colab_type": "code",
    "id": "bgjD55T8Wd27",
    "outputId": "0f79789b-8f4c-4aed-eb39-d8fe8a1169fa"
   },
   "outputs": [],
   "source": [
    "dataset = pd.read_csv(path, names = headernames)\n",
    "dataset.head()"
   ]
  },
  {
   "cell_type": "code",
   "execution_count": null,
   "metadata": {
    "colab": {},
    "colab_type": "code",
    "id": "T7CD5YtAWiKK"
   },
   "outputs": [],
   "source": [
    "X = dataset.iloc[:, :-1].values\n",
    "y = dataset.iloc[:, 4].values"
   ]
  },
  {
   "cell_type": "code",
   "execution_count": null,
   "metadata": {
    "colab": {},
    "colab_type": "code",
    "id": "QJ8vvzNpWlnt"
   },
   "outputs": [],
   "source": [
    "from sklearn.model_selection import train_test_split\n",
    "X_train, X_test, y_train, y_test = train_test_split(X, y, test_size = 0.30)"
   ]
  },
  {
   "cell_type": "code",
   "execution_count": null,
   "metadata": {
    "colab": {
     "base_uri": "https://localhost:8080/",
     "height": 150
    },
    "colab_type": "code",
    "id": "A7cenBdyWpuI",
    "outputId": "29433c53-3673-4faa-dda2-2a4554e1e914"
   },
   "outputs": [],
   "source": [
    "from sklearn.ensemble import RandomForestClassifier\n",
    "classifier = RandomForestClassifier(n_estimators = 50)\n",
    "classifier.fit(X_train, y_train)"
   ]
  },
  {
   "cell_type": "code",
   "execution_count": null,
   "metadata": {
    "colab": {
     "base_uri": "https://localhost:8080/",
     "height": 250
    },
    "colab_type": "code",
    "id": "vKYgOkLHWsiJ",
    "outputId": "b72bbd67-ad6a-466e-839a-5544ef2be0df"
   },
   "outputs": [],
   "source": [
    "y_pred = classifier.predict(X_test)\n",
    "y_pred"
   ]
  },
  {
   "cell_type": "code",
   "execution_count": null,
   "metadata": {
    "colab": {
     "base_uri": "https://localhost:8080/",
     "height": 83
    },
    "colab_type": "code",
    "id": "ZbG7ogODWucE",
    "outputId": "dc84275d-0910-4118-de0f-0e0237bce1e3"
   },
   "outputs": [],
   "source": [
    "from sklearn.metrics import classification_report, confusion_matrix, accuracy_score\n",
    "result = confusion_matrix(y_test, y_pred)\n",
    "print(\"Confusion Matrix:\")\n",
    "print(result)"
   ]
  },
  {
   "cell_type": "code",
   "execution_count": null,
   "metadata": {
    "colab": {
     "base_uri": "https://localhost:8080/",
     "height": 200
    },
    "colab_type": "code",
    "id": "GwTbo-9HWyHu",
    "outputId": "a97c8e35-3082-4b63-b842-34c89d39e41c"
   },
   "outputs": [],
   "source": [
    "result1 = classification_report(y_test, y_pred)\n",
    "print(\"Classification Report:\",)\n",
    "print (result1)"
   ]
  },
  {
   "cell_type": "code",
   "execution_count": null,
   "metadata": {
    "colab": {
     "base_uri": "https://localhost:8080/",
     "height": 33
    },
    "colab_type": "code",
    "id": "Uup2a4mCu5eG",
    "outputId": "953b9b21-9692-4284-cda1-9d3f629e3c02"
   },
   "outputs": [],
   "source": [
    "result2 = accuracy_score(y_test,y_pred)\n",
    "print(\"Accuracy:\",result2)"
   ]
  },
  {
   "cell_type": "code",
   "execution_count": null,
   "metadata": {
    "colab": {},
    "colab_type": "code",
    "id": "SMP3wh-x6HGi"
   },
   "outputs": [],
   "source": [
    "#example-3"
   ]
  },
  {
   "cell_type": "code",
   "execution_count": null,
   "metadata": {
    "colab": {},
    "colab_type": "code",
    "id": "Zzk9v9_D6JDu"
   },
   "outputs": [],
   "source": [
    "# Importing the libraries\n",
    "\n",
    "# Importing the dataset\n",
    "df = pd.read_csv('Chip_test.csv').values\n",
    "x = df[:, 0:2]\n",
    "y = df[:, -1]"
   ]
  },
  {
   "cell_type": "code",
   "execution_count": null,
   "metadata": {
    "colab": {
     "base_uri": "https://localhost:8080/",
     "height": 1000
    },
    "colab_type": "code",
    "id": "3fp2-oAu6I3k",
    "outputId": "0b324b0a-401c-4403-e341-e9741e144639"
   },
   "outputs": [],
   "source": [
    "x, y\n"
   ]
  },
  {
   "cell_type": "code",
   "execution_count": null,
   "metadata": {
    "colab": {
     "base_uri": "https://localhost:8080/",
     "height": 33
    },
    "colab_type": "code",
    "id": "5GS1zHrmvMz-",
    "outputId": "30314d3f-3258-4977-a24e-82aa8965d055"
   },
   "outputs": [],
   "source": [
    "x.shape"
   ]
  },
  {
   "cell_type": "code",
   "execution_count": null,
   "metadata": {
    "colab": {},
    "colab_type": "code",
    "id": "tg45xZtF6NlS"
   },
   "outputs": [],
   "source": [
    "# Splitting the dataset into the Training set and Test set\n",
    "from sklearn.model_selection import train_test_split\n",
    "x_train, x_test, y_train, y_test = train_test_split(x, y, test_size = 0.25) "
   ]
  },
  {
   "cell_type": "code",
   "execution_count": null,
   "metadata": {
    "colab": {},
    "colab_type": "code",
    "id": "KtnX0ef86Pgu"
   },
   "outputs": [],
   "source": [
    "from sklearn.preprocessing import StandardScaler\n",
    "sc_x = StandardScaler()\n",
    "x_train = sc_x.fit_transform(x_train)\n",
    "x_test = sc_x.transform(x_test)"
   ]
  },
  {
   "cell_type": "code",
   "execution_count": null,
   "metadata": {
    "colab": {
     "base_uri": "https://localhost:8080/",
     "height": 150
    },
    "colab_type": "code",
    "id": "ScjVAIis6RPR",
    "outputId": "ba5e88ba-ec04-45f3-e184-ef887e0161e2"
   },
   "outputs": [],
   "source": [
    "#Fitting Decision Tree classifier to Training Set\n",
    "from sklearn.ensemble import RandomForestClassifier\n",
    "classifier = RandomForestClassifier(n_estimators = 100, criterion = 'entropy', random_state = 0)\n",
    "classifier.fit(x_train,y_train)\n"
   ]
  },
  {
   "cell_type": "code",
   "execution_count": null,
   "metadata": {
    "colab": {},
    "colab_type": "code",
    "id": "5DAB_Bla6S29"
   },
   "outputs": [],
   "source": [
    "#Predicting the Test Set Results\n",
    "y_pred = classifier.predict(x_test)"
   ]
  },
  {
   "cell_type": "code",
   "execution_count": null,
   "metadata": {
    "colab": {
     "base_uri": "https://localhost:8080/",
     "height": 50
    },
    "colab_type": "code",
    "id": "AxZqNhdy6Tda",
    "outputId": "97baf2bd-bcbb-4ccb-8bc6-8a575a80bdd2"
   },
   "outputs": [],
   "source": [
    "#Making the Confusion Matrix\n",
    "from sklearn.metrics import confusion_matrix\n",
    "cm = confusion_matrix(y_test,y_pred)\n",
    "cm"
   ]
  },
  {
   "cell_type": "code",
   "execution_count": null,
   "metadata": {
    "colab": {
     "base_uri": "https://localhost:8080/",
     "height": 334
    },
    "colab_type": "code",
    "id": "DBW-fgN26TaF",
    "outputId": "3f50f59b-1c50-455c-cbf6-714c40bec438"
   },
   "outputs": [],
   "source": [
    "#Visualizing the Training Set Results\n",
    "from matplotlib.colors import ListedColormap\n",
    "x_set , y_set = x_train ,y_train\n",
    "x1, x2 = np.meshgrid(np.arange(start = x_set[:,0].min()-1,stop =x_set[:,0].max()+1,step=0.01),\n",
    "                    np.arange(start = x_set[:,1].min()-1,stop =x_set[:,1].max()+1,step=0.01))\n",
    "plt.contour(x1,x2,classifier.predict(np.array([x1.ravel(),x2.ravel()]).T).reshape(x1.shape),\n",
    "            alpha= 0.75 ,cmap = ListedColormap(('red','green')))\n",
    "plt.xlim(x1.min() ,x1.max())\n",
    "plt.ylim(x2.min() ,x2.max())\n",
    "for i,j in enumerate(np.unique(y_set)):\n",
    "    plt.scatter(x_set[y_set == j ,0], x_set[y_set == j,1],\n",
    "                c= ListedColormap(('red' , 'green'))(i) , label = j)\n",
    "plt.title('(Training Set)')\n",
    "\n",
    "plt.legend()\n",
    "plt.show()"
   ]
  },
  {
   "cell_type": "code",
   "execution_count": null,
   "metadata": {
    "colab": {
     "base_uri": "https://localhost:8080/",
     "height": 351
    },
    "colab_type": "code",
    "id": "tlH6pmHd6X-G",
    "outputId": "37e145dd-a424-4de2-d586-7909adf8e52e"
   },
   "outputs": [],
   "source": [
    "#Visualizing the Test Set Results\n",
    "from matplotlib.colors import ListedColormap\n",
    "x_set , y_set = x_test ,y_test\n",
    "x1, x2 = np.meshgrid(np.arange(start = x_set[:,0].min()-1,stop =x_set[:,0].max()+1,step=0.01),\n",
    "                    np.arange(start = x_set[:,1].min()-1,stop =x_set[:,1].max()+1,step=0.01))\n",
    "plt.contour(x1,x2,classifier.predict(np.array([x1.ravel(),x2.ravel()]).T).reshape(x1.shape),\n",
    "            alpha= 0.75 ,cmap = ListedColormap(('red','green')))\n",
    "plt.xlim(x1.min() ,x1.max())\n",
    "plt.ylim(x2.min() ,x2.max())\n",
    "for i,j in enumerate(np.unique(y_set)):\n",
    "    plt.scatter(x_set[y_set == j ,0], x_set[y_set == j,1],\n",
    "                c= ListedColormap(('red' , 'green'))(i) , label = j)\n",
    "plt.title('Test Set')\n",
    " \n",
    "plt.legend()"
   ]
  },
  {
   "cell_type": "code",
   "execution_count": null,
   "metadata": {
    "colab": {},
    "colab_type": "code",
    "id": "uMd1CUPt6a0U"
   },
   "outputs": [],
   "source": []
  },
  {
   "cell_type": "code",
   "execution_count": null,
   "metadata": {
    "colab": {},
    "colab_type": "code",
    "id": "xBU_PWy-6avu"
   },
   "outputs": [],
   "source": [
    "#example-4"
   ]
  },
  {
   "cell_type": "code",
   "execution_count": null,
   "metadata": {
    "colab": {},
    "colab_type": "code",
    "id": "H3Redgx-6p3G"
   },
   "outputs": [],
   "source": [
    "# Importing the libraries\n",
    "import numpy as np\n",
    "import matplotlib.pyplot as plt\n",
    "import pandas as pd"
   ]
  },
  {
   "cell_type": "code",
   "execution_count": null,
   "metadata": {
    "colab": {},
    "colab_type": "code",
    "id": "i_86tW-A6qtv"
   },
   "outputs": [],
   "source": [
    "# Importing the dataset\n",
    "df = pd.read_csv('Ads.csv')\n",
    "x = df.iloc[:, [2, 3]].values\n",
    "y = df.iloc[:, 4].values"
   ]
  },
  {
   "cell_type": "code",
   "execution_count": null,
   "metadata": {
    "colab": {
     "base_uri": "https://localhost:8080/",
     "height": 1000
    },
    "colab_type": "code",
    "id": "TxMZQ05Bxa4-",
    "outputId": "3c3a51af-abff-4637-91c7-d44ab076905a"
   },
   "outputs": [],
   "source": [
    "x, y"
   ]
  },
  {
   "cell_type": "code",
   "execution_count": null,
   "metadata": {
    "colab": {
     "base_uri": "https://localhost:8080/",
     "height": 33
    },
    "colab_type": "code",
    "id": "casZXOv9xd8V",
    "outputId": "ee0c5172-8800-46fd-d027-d3301e8f7151"
   },
   "outputs": [],
   "source": [
    "df.shape"
   ]
  },
  {
   "cell_type": "code",
   "execution_count": null,
   "metadata": {
    "colab": {},
    "colab_type": "code",
    "id": "Dza_JUjR6rBx"
   },
   "outputs": [],
   "source": [
    "# Splitting the dataset into the Training set and Test set\n",
    "from sklearn.model_selection import train_test_split\n",
    "x_train, x_test, y_train, y_test = train_test_split(x, y, test_size = 0.20) "
   ]
  },
  {
   "cell_type": "code",
   "execution_count": null,
   "metadata": {
    "colab": {},
    "colab_type": "code",
    "id": "e-WJegs96q-U"
   },
   "outputs": [],
   "source": [
    "from sklearn.preprocessing import StandardScaler\n",
    "sc_x = StandardScaler()\n",
    "x_train = sc_x.fit_transform(x_train)\n",
    "x_test = sc_x.transform(x_test)"
   ]
  },
  {
   "cell_type": "code",
   "execution_count": null,
   "metadata": {
    "colab": {},
    "colab_type": "code",
    "id": "DdVxctA66q6p"
   },
   "outputs": [],
   "source": [
    "#Fitting RF classifier to Training Set\n",
    "from sklearn.ensemble import RandomForestClassifier\n",
    "model = RandomForestClassifier()"
   ]
  },
  {
   "cell_type": "code",
   "execution_count": null,
   "metadata": {
    "colab": {
     "base_uri": "https://localhost:8080/",
     "height": 150
    },
    "colab_type": "code",
    "id": "YdZCC87M6q22",
    "outputId": "94dd9666-0927-436a-f0cf-a75eab1be4ab"
   },
   "outputs": [],
   "source": [
    "model.fit(x_train, y_train)"
   ]
  },
  {
   "cell_type": "code",
   "execution_count": null,
   "metadata": {
    "colab": {
     "base_uri": "https://localhost:8080/",
     "height": 83
    },
    "colab_type": "code",
    "id": "fl3B-RP46qy9",
    "outputId": "94cf998e-fbdf-4216-a968-5a408b4dd3d1"
   },
   "outputs": [],
   "source": [
    "#Predicting the Test Set Results\n",
    "y_pred = model.predict(x_test)\n",
    "y_pred"
   ]
  },
  {
   "cell_type": "code",
   "execution_count": null,
   "metadata": {
    "colab": {
     "base_uri": "https://localhost:8080/",
     "height": 50
    },
    "colab_type": "code",
    "id": "TwIr9doR6qpY",
    "outputId": "b24e6c23-8497-4c95-b770-e140406e3db7"
   },
   "outputs": [],
   "source": [
    "#Making the Confusion Matrix\n",
    "from sklearn.metrics import confusion_matrix\n",
    "cm = confusion_matrix(y_test,y_pred)\n",
    "cm"
   ]
  },
  {
   "cell_type": "code",
   "execution_count": null,
   "metadata": {
    "colab": {
     "base_uri": "https://localhost:8080/",
     "height": 334
    },
    "colab_type": "code",
    "id": "0p_KIBBk62An",
    "outputId": "13d8bc42-fb5d-4879-f9d4-12c93b22ce45"
   },
   "outputs": [],
   "source": [
    "#Visualizing the Training Set Results\n",
    "from matplotlib.colors import ListedColormap\n",
    "x_set , y_set = x_train ,y_train\n",
    "x1, x2 = np.meshgrid(np.arange(start = x_set[:,0].min()-1,stop =x_set[:,0].max()+1,step=0.01),\n",
    "                    np.arange(start = x_set[:,1].min()-1,stop =x_set[:,1].max()+1,step=0.01))\n",
    "plt.contour(x1,x2,model.predict(np.array([x1.ravel(),x2.ravel()]).T).reshape(x1.shape),\n",
    "            alpha= 0.75 ,cmap = ListedColormap(('red','green')))\n",
    "plt.xlim(x1.min() ,x1.max())\n",
    "plt.ylim(x2.min() ,x2.max())\n",
    "for i,j in enumerate(np.unique(y_set)):\n",
    "    plt.scatter(x_set[y_set == j ,0], x_set[y_set == j,1],\n",
    "                c= ListedColormap(('red' , 'green'))(i) , label = j)\n",
    "plt.title(' (Training Set)')\n",
    " \n",
    "plt.legend()\n",
    "plt.show()"
   ]
  },
  {
   "cell_type": "code",
   "execution_count": null,
   "metadata": {
    "colab": {
     "base_uri": "https://localhost:8080/",
     "height": 351
    },
    "colab_type": "code",
    "id": "rxua1Ff56196",
    "outputId": "1de15bbe-d7f8-46b2-82c6-e25497027e43"
   },
   "outputs": [],
   "source": [
    "#Visualizing the Test Set Results\n",
    "from matplotlib.colors import ListedColormap\n",
    "x_set , y_set = x_test ,y_test\n",
    "x1, x2 = np.meshgrid(np.arange(start = x_set[:,0].min()-1,stop =x_set[:,0].max()+1,step=0.01),\n",
    "                    np.arange(start = x_set[:,1].min()-1,stop =x_set[:,1].max()+1,step=0.01))\n",
    "plt.contour(x1,x2,model.predict(np.array([x1.ravel(),x2.ravel()]).T).reshape(x1.shape),\n",
    "            alpha= 0.75 ,cmap = ListedColormap(('red','green')))\n",
    "plt.xlim(x1.min() ,x1.max())\n",
    "plt.ylim(x2.min() ,x2.max())\n",
    "for i,j in enumerate(np.unique(y_set)):\n",
    "    plt.scatter(x_set[y_set == j ,0], x_set[y_set == j,1],\n",
    "                c= ListedColormap(('red' , 'green'))(i) , label = j)\n",
    "plt.title('Test Set')\n",
    " \n",
    "plt.legend()"
   ]
  }
 ],
 "metadata": {
  "colab": {
   "collapsed_sections": [
    "hCd1DG50Nt2R"
   ],
   "name": "Copy of decision_Trees.ipynb",
   "provenance": []
  },
  "kernelspec": {
   "display_name": "Python 3",
   "language": "python",
   "name": "python3"
  },
  "language_info": {
   "codemirror_mode": {
    "name": "ipython",
    "version": 3
   },
   "file_extension": ".py",
   "mimetype": "text/x-python",
   "name": "python",
   "nbconvert_exporter": "python",
   "pygments_lexer": "ipython3",
   "version": "3.7.6"
  }
 },
 "nbformat": 4,
 "nbformat_minor": 1
}
