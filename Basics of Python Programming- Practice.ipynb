{
 "cells": [
  {
   "cell_type": "code",
   "execution_count": 1,
   "metadata": {
    "colab": {
     "base_uri": "https://localhost:8080/",
     "height": 158
    },
    "colab_type": "code",
    "executionInfo": {
     "elapsed": 1196,
     "status": "ok",
     "timestamp": 1596647441850,
     "user": {
      "displayName": "Divyam Dogra",
      "photoUrl": "https://lh3.googleusercontent.com/a-/AOh14Gi5d18FkZ8_Z3mCCHTbyUI81mZcmWXLnSX7H-uObw=s64",
      "userId": "01546544809115757897"
     },
     "user_tz": -330
    },
    "id": "UaQhI2MUdus9",
    "outputId": "5b406801-1c04-45a8-8596-d14ca61258f9"
   },
   "outputs": [
    {
     "name": "stdout",
     "output_type": "stream",
     "text": [
      "Arithmetic Operator\n",
      "Addition: 15\n",
      "Subtraction: 5\n",
      "Multiplication: 50\n",
      "Division: 2.0\n",
      "Floor Division: 2\n",
      "Modulus: 0\n",
      "Exponent 100000\n"
     ]
    }
   ],
   "source": [
    "print(\"Arithmetic Operator\")  \n",
    "a=10\n",
    "b=5\n",
    "print(\"Addition:\",a+b)\n",
    "print(\"Subtraction:\",a-b)\n",
    "print(\"Multiplication:\",a*b)\n",
    "print(\"Division:\",a/b)\n",
    "print(\"Floor Division:\",a//b)\n",
    "print(\"Modulus:\",a%b)\n",
    "print(\"Exponent\",a**b)\n"
   ]
  },
  {
   "cell_type": "code",
   "execution_count": null,
   "metadata": {
    "colab": {},
    "colab_type": "code",
    "id": "I_OXwY-kdutI",
    "outputId": "6ca459eb-9fa5-4945-d193-c0d73ecb41a0"
   },
   "outputs": [
    {
     "name": "stdout",
     "output_type": "stream",
     "text": [
      "Relational Operator\n",
      "True\n",
      "False\n",
      "False\n",
      "True\n",
      "True\n",
      "False\n"
     ]
    }
   ],
   "source": [
    "print(\"Relational Operator\")\n",
    "a=10\n",
    "b=5\n",
    "print(a>b)\n",
    "print(a<b) \n",
    "print(a==b)\n",
    "print(a!=b) \n",
    "print(a>=b)  \n",
    "print(a<=b)\n"
   ]
  },
  {
   "cell_type": "code",
   "execution_count": null,
   "metadata": {
    "colab": {},
    "colab_type": "code",
    "id": "siz8EhT1dutP",
    "outputId": "47b82e9a-34a5-450d-8ede-bfd3e5e0374e"
   },
   "outputs": [
    {
     "name": "stdout",
     "output_type": "stream",
     "text": [
      "Logical Operator\n",
      "False\n",
      "True\n",
      "False\n"
     ]
    }
   ],
   "source": [
    "print(\"Logical Operator\")\n",
    "print(10<5 and 10<20)\n",
    "print(10<5 or 10<20)\n",
    "print(not(10<20))\n"
   ]
  },
  {
   "cell_type": "code",
   "execution_count": null,
   "metadata": {
    "colab": {},
    "colab_type": "code",
    "id": "ogeb6F3KdutY",
    "outputId": "70d2e708-7da8-430e-d3d0-6c611785334b"
   },
   "outputs": [
    {
     "name": "stdout",
     "output_type": "stream",
     "text": [
      "Identity Operator\n",
      "False\n",
      "True\n",
      "False\n"
     ]
    }
   ],
   "source": [
    "print(\"Identity Operator\")\n",
    "a1=5\n",
    "b1=5\n",
    "a2=\"Hello\"\n",
    "b2=\"Hello\"\n",
    "a3=[1,2,3]\n",
    "b3=[1,2,3]\n",
    "print(a1 is not b1)\n",
    "print(a2 is b2)\n",
    "print(a2 is b3)\n"
   ]
  },
  {
   "cell_type": "code",
   "execution_count": null,
   "metadata": {
    "colab": {},
    "colab_type": "code",
    "id": "nM9oUV0Edutd",
    "outputId": "36fbd581-0ffb-4d99-fe98-91daf0997ead"
   },
   "outputs": [
    {
     "name": "stdout",
     "output_type": "stream",
     "text": [
      "True\n",
      "False\n",
      "True\n",
      "True\n",
      "True\n"
     ]
    }
   ],
   "source": [
    "a=\"Hello world\"\n",
    "b={1,\"a\",\"b\",2}\n",
    "print(\"H\" in a)\n",
    "print(\"hello\" in a )\n",
    "print(1 in b)\n",
    "print(\"b\" in b) \n",
    "print(\"c\" not in b)\n"
   ]
  },
  {
   "cell_type": "code",
   "execution_count": null,
   "metadata": {
    "colab": {},
    "colab_type": "code",
    "id": "YfSaLdaFduti"
   },
   "outputs": [],
   "source": [
    "\n",
    "\n"
   ]
  },
  {
   "cell_type": "code",
   "execution_count": null,
   "metadata": {
    "colab": {},
    "colab_type": "code",
    "id": "0mvqgfbUdutn"
   },
   "outputs": [],
   "source": []
  },
  {
   "cell_type": "code",
   "execution_count": null,
   "metadata": {
    "colab": {},
    "colab_type": "code",
    "id": "ZLsmgwjadutw"
   },
   "outputs": [],
   "source": []
  },
  {
   "cell_type": "code",
   "execution_count": null,
   "metadata": {
    "colab": {},
    "colab_type": "code",
    "id": "JFcCPHMDdut3"
   },
   "outputs": [],
   "source": []
  },
  {
   "cell_type": "code",
   "execution_count": null,
   "metadata": {
    "colab": {},
    "colab_type": "code",
    "id": "r_xtQy5Hdut8"
   },
   "outputs": [],
   "source": []
  },
  {
   "cell_type": "code",
   "execution_count": null,
   "metadata": {
    "colab": {},
    "colab_type": "code",
    "id": "Gm4nCYYNduuB"
   },
   "outputs": [],
   "source": []
  },
  {
   "cell_type": "code",
   "execution_count": 1,
   "metadata": {
    "colab": {},
    "colab_type": "code",
    "id": "JxKDa6JdduuJ",
    "outputId": "de054de0-db88-4867-d9a0-fc5d10cd2998"
   },
   "outputs": [
    {
     "name": "stdout",
     "output_type": "stream",
     "text": [
      "If statement\n",
      "Enter the number:5\n",
      "condition is true\n"
     ]
    }
   ],
   "source": [
    "print(\"If statement\")\n",
    "i=int(input(\"Enter the number:\"))\n",
    "if (i<=10):\n",
    "    print(\"condition is true\")\n",
    "    \n"
   ]
  },
  {
   "cell_type": "code",
   "execution_count": 2,
   "metadata": {
    "colab": {},
    "colab_type": "code",
    "id": "pEmn9wNFduuO",
    "outputId": "5eeeeec2-4ccf-46da-dfce-317a6b5e0956"
   },
   "outputs": [
    {
     "name": "stdout",
     "output_type": "stream",
     "text": [
      "If...else statement\n",
      "Enter the number:89\n",
      "Given number is Odd\n"
     ]
    }
   ],
   "source": [
    "print(\"If...else statement\")\n",
    "num = int(input(\"Enter the number:\"))\n",
    "if (num % 2)== 0:\n",
    "\tprint (\"Given number is Even\")\n",
    "else:\n",
    "\tprint(\"Given number is Odd\")\n"
   ]
  },
  {
   "cell_type": "code",
   "execution_count": 3,
   "metadata": {
    "colab": {},
    "colab_type": "code",
    "id": "E69T9NReduuT",
    "outputId": "ef19b9d5-d625-41f4-987e-8983fa749252"
   },
   "outputs": [
    {
     "name": "stdout",
     "output_type": "stream",
     "text": [
      "Elif statement\n",
      "Enter 1st number:4\n",
      "Enter 2nd number:6\n",
      "Enter 3rd number:8\n",
      "c is greater\n"
     ]
    }
   ],
   "source": [
    "print(\"Elif statement\")\n",
    "a = int(input(\"Enter 1st number:\"))  \n",
    "b= int(input(\"Enter 2nd number:\"))\n",
    "c= int(input(\"Enter 3rd number:\"))\n",
    "if (a > b) and (a > c):\n",
    "    print(\"a is greater\")\n",
    "elif (b > a) and (b > c):\n",
    "    print(\"b is greater\")\n",
    "else:\n",
    "    print(\"c is greater\")\n"
   ]
  },
  {
   "cell_type": "code",
   "execution_count": 4,
   "metadata": {
    "colab": {},
    "colab_type": "code",
    "id": "dOkWIXdsduuX",
    "outputId": "cbe11356-bf5b-4716-9828-e3be040d24c4"
   },
   "outputs": [
    {
     "name": "stdout",
     "output_type": "stream",
     "text": [
      "Nested if...else statement\n",
      "Enter a number:16\n",
      "Don’t play game\n"
     ]
    }
   ],
   "source": [
    "print(\"Nested if...else statement\")\n",
    "n = int(input(\"Enter a number:\")) \n",
    "if (n<=15):\n",
    "    if (n == 10):\n",
    "        print(\"play cricket\")  \n",
    "    else:\n",
    "        print(\"play kabadi\")\n",
    "else:\n",
    "    print(\"Don’t play game\")\n"
   ]
  },
  {
   "cell_type": "code",
   "execution_count": null,
   "metadata": {
    "colab": {},
    "colab_type": "code",
    "id": "1KpNzhkRduuc"
   },
   "outputs": [],
   "source": [
    "#CONTROL STATEMENTS\n"
   ]
  },
  {
   "cell_type": "code",
   "execution_count": null,
   "metadata": {
    "colab": {},
    "colab_type": "code",
    "id": "nKA6-jm8duui",
    "outputId": "5e5f169b-0226-49b6-d515-dd579fb98e42"
   },
   "outputs": [
    {
     "name": "stdout",
     "output_type": "stream",
     "text": [
      "For loop- To find sum of number\n",
      "Enter a number: 10\n",
      "The sum is 10\n",
      "The sum is 19\n",
      "The sum is 27\n",
      "The sum is 34\n",
      "The sum is 40\n",
      "The sum is 45\n",
      "The sum is 49\n",
      "The sum is 52\n",
      "The sum is 54\n",
      "The sum is 55\n"
     ]
    }
   ],
   "source": [
    "print(\"While loop- To find sum of number\")\n",
    "num = int(input(\"Enter a number: \"))\n",
    "sum = 0\n",
    "while(num > 0):  \n",
    "    sum = sum+num\n",
    "    num = num-1\n",
    "    print(\"The sum is\",sum)\n"
   ]
  },
  {
   "cell_type": "code",
   "execution_count": null,
   "metadata": {
    "colab": {},
    "colab_type": "code",
    "id": "5pLzHMjiduun",
    "outputId": "817e6467-5e4d-47c2-8b69-5b324de417cb"
   },
   "outputs": [
    {
     "name": "stdout",
     "output_type": "stream",
     "text": [
      "For loop- Addition of number using for loop \n",
      "The sum is 37\n"
     ]
    }
   ],
   "source": [
    "print(\"For loop- Addition of number using for loop \")\n",
    "\n",
    "numbers = [6, 5, 3, 8, 4, 2, 5, 4]\n",
    "sum1 = 0\n",
    "for val in numbers:  sum1 = sum1+val\n",
    "print(\"The sum is\", sum1)\n"
   ]
  },
  {
   "cell_type": "code",
   "execution_count": null,
   "metadata": {
    "colab": {},
    "colab_type": "code",
    "id": "haroXQgqduuv",
    "outputId": "89fd46da-11bd-4b24-b04d-6e89339d2220"
   },
   "outputs": [
    {
     "name": "stdout",
     "output_type": "stream",
     "text": [
      "For loop with if-else \n",
      "I like pop\n",
      "I like rock\n",
      "I like jazz\n"
     ]
    }
   ],
   "source": [
    "print(\"For loop with if-else \")\n",
    "genre = ['pop', 'rock', 'jazz']\n",
    "for i in range(len(genre)):\n",
    "    print(\"I like\", genre[i])\n"
   ]
  },
  {
   "cell_type": "code",
   "execution_count": null,
   "metadata": {
    "colab": {},
    "colab_type": "code",
    "id": "1Oq_AqaKduuz",
    "outputId": "7c39fe21-b9bf-4df4-bf87-c186cf8ff0df"
   },
   "outputs": [
    {
     "name": "stdout",
     "output_type": "stream",
     "text": [
      "I like pop\n",
      "I like rock\n",
      "I like jazz\n",
      "No items left.\n"
     ]
    }
   ],
   "source": [
    "genre = ['pop', 'rock', 'jazz']\n",
    "for i in range(len(genre)):\n",
    "    print(\"I like\", genre[i])\n",
    "else:\n",
    "    print(\"No items left.\")\n"
   ]
  },
  {
   "cell_type": "code",
   "execution_count": null,
   "metadata": {
    "colab": {},
    "colab_type": "code",
    "id": "_67_Gyelduu5"
   },
   "outputs": [],
   "source": []
  }
 ],
 "metadata": {
  "colab": {
   "collapsed_sections": [],
   "name": "Basics of Python Programming- Practice.ipynb",
   "provenance": []
  },
  "kernelspec": {
   "display_name": "Python 3",
   "language": "python",
   "name": "python3"
  },
  "language_info": {
   "codemirror_mode": {
    "name": "ipython",
    "version": 3
   },
   "file_extension": ".py",
   "mimetype": "text/x-python",
   "name": "python",
   "nbconvert_exporter": "python",
   "pygments_lexer": "ipython3",
   "version": "3.7.6"
  }
 },
 "nbformat": 4,
 "nbformat_minor": 1
}
