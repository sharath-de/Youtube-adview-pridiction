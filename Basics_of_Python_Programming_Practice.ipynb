{
  "nbformat": 4,
  "nbformat_minor": 0,
  "metadata": {
    "kernelspec": {
      "display_name": "Python 3",
      "language": "python",
      "name": "python3"
    },
    "language_info": {
      "codemirror_mode": {
        "name": "ipython",
        "version": 3
      },
      "file_extension": ".py",
      "mimetype": "text/x-python",
      "name": "python",
      "nbconvert_exporter": "python",
      "pygments_lexer": "ipython3",
      "version": "3.7.1"
    },
    "colab": {
      "name": "Basics of Python Programming- Practice.ipynb",
      "provenance": [],
      "collapsed_sections": []
    }
  },
  "cells": [
    {
      "cell_type": "code",
      "metadata": {
        "id": "UaQhI2MUdus9",
        "outputId": "5b406801-1c04-45a8-8596-d14ca61258f9",
        "colab": {
          "base_uri": "https://localhost:8080/",
          "height": 158
        }
      },
      "source": [
        "print(\"Arithmetic Operator\")  \n",
        "a=10\n",
        "b=5\n",
        "print(\"Addition:\",a+b)\n",
        "print(\"Subtraction:\",a-b)\n",
        "print(\"Multiplication:\",a*b)\n",
        "print(\"Division:\",a/b)\n",
        "print(\"Floor Division:\",a//b)\n",
        "print(\"Modulus:\",a%b)\n",
        "print(\"Exponent\",a**b)\n"
      ],
      "execution_count": null,
      "outputs": [
        {
          "output_type": "stream",
          "text": [
            "Arithmetic Operator\n",
            "Addition: 15\n",
            "Subtraction: 5\n",
            "Multiplication: 50\n",
            "Division: 2.0\n",
            "Floor Division: 2\n",
            "Modulus: 0\n",
            "Exponent 100000\n"
          ],
          "name": "stdout"
        }
      ]
    },
    {
      "cell_type": "code",
      "metadata": {
        "id": "I_OXwY-kdutI",
        "outputId": "6ca459eb-9fa5-4945-d193-c0d73ecb41a0"
      },
      "source": [
        "print(\"Relational Operator\")\n",
        "a=10\n",
        "b=5\n",
        "print(a>b)\n",
        "print(a<b) \n",
        "print(a==b)\n",
        "print(a!=b) \n",
        "print(a>=b)  \n",
        "print(a<=b)\n"
      ],
      "execution_count": null,
      "outputs": [
        {
          "output_type": "stream",
          "text": [
            "Relational Operator\n",
            "True\n",
            "False\n",
            "False\n",
            "True\n",
            "True\n",
            "False\n"
          ],
          "name": "stdout"
        }
      ]
    },
    {
      "cell_type": "code",
      "metadata": {
        "id": "siz8EhT1dutP",
        "outputId": "47b82e9a-34a5-450d-8ede-bfd3e5e0374e"
      },
      "source": [
        "print(\"Logical Operator\")\n",
        "print(10<5 and 10<20)\n",
        "print(10<5 or 10<20)\n",
        "print(not(10<20))\n"
      ],
      "execution_count": null,
      "outputs": [
        {
          "output_type": "stream",
          "text": [
            "Logical Operator\n",
            "False\n",
            "True\n",
            "False\n"
          ],
          "name": "stdout"
        }
      ]
    },
    {
      "cell_type": "code",
      "metadata": {
        "id": "ogeb6F3KdutY",
        "outputId": "70d2e708-7da8-430e-d3d0-6c611785334b"
      },
      "source": [
        "print(\"Identity Operator\")\n",
        "a1=5\n",
        "b1=5\n",
        "a2=\"Hello\"\n",
        "b2=\"Hello\"\n",
        "a3=[1,2,3]\n",
        "b3=[1,2,3]\n",
        "print(a1 is not b1)\n",
        "print(a2 is b2)\n",
        "print(a2 is b3)\n"
      ],
      "execution_count": null,
      "outputs": [
        {
          "output_type": "stream",
          "text": [
            "Identity Operator\n",
            "False\n",
            "True\n",
            "False\n"
          ],
          "name": "stdout"
        }
      ]
    },
    {
      "cell_type": "code",
      "metadata": {
        "id": "nM9oUV0Edutd",
        "outputId": "36fbd581-0ffb-4d99-fe98-91daf0997ead"
      },
      "source": [
        "a=\"Hello world\"\n",
        "b={1,\"a\",\"b\",2}\n",
        "print(\"H\" in a)\n",
        "print(\"hello\" in a )\n",
        "print(1 in b)\n",
        "print(\"b\" in b) \n",
        "print(\"c\" not in b)\n"
      ],
      "execution_count": null,
      "outputs": [
        {
          "output_type": "stream",
          "text": [
            "True\n",
            "False\n",
            "True\n",
            "True\n",
            "True\n"
          ],
          "name": "stdout"
        }
      ]
    },
    {
      "cell_type": "code",
      "metadata": {
        "id": "JxKDa6JdduuJ",
        "outputId": "de054de0-db88-4867-d9a0-fc5d10cd2998"
      },
      "source": [
        "print(\"If statement\")\n",
        "i=int(input(\"Enter the number:\"))\n",
        "if (i<=10):\n",
        "    print(\"condition is true\")\n"
      ],
      "execution_count": null,
      "outputs": [
        {
          "output_type": "stream",
          "text": [
            "If statement\n",
            "Enter the number:9\n",
            "condition is true\n"
          ],
          "name": "stdout"
        }
      ]
    },
    {
      "cell_type": "code",
      "metadata": {
        "id": "pEmn9wNFduuO",
        "outputId": "5eeeeec2-4ccf-46da-dfce-317a6b5e0956"
      },
      "source": [
        "print(\"If...else statement\")\n",
        "num = int(input(\"Enter the number:\"))\n",
        "if (num % 2)== 0:\n",
        "\tprint (\"Given number is Even\")\n",
        "else:\n",
        "\tprint(\"Given number is Odd\")\n"
      ],
      "execution_count": null,
      "outputs": [
        {
          "output_type": "stream",
          "text": [
            "If...else statement\n",
            "Enter the number:10\n",
            "Given number is Even\n"
          ],
          "name": "stdout"
        }
      ]
    },
    {
      "cell_type": "code",
      "metadata": {
        "id": "E69T9NReduuT",
        "outputId": "ef19b9d5-d625-41f4-987e-8983fa749252"
      },
      "source": [
        "print(\"Elif statement\")\n",
        "a = int(input(\"Enter 1st number:\"))  \n",
        "b= int(input(\"Enter 2nd number:\"))\n",
        "c= int(input(\"Enter 3rd number:\"))\n",
        "if (a > b) and (a > c):\n",
        "    print(\"a is greater\")\n",
        "elif (b > a) and (b > c):\n",
        "    print(\"b is greater\")\n",
        "else:\n",
        "    print(\"c is greater\")\n"
      ],
      "execution_count": null,
      "outputs": [
        {
          "output_type": "stream",
          "text": [
            "Elif statement\n",
            "Enter 1st number:10\n",
            "Enter 2nd number:25\n",
            "Enter 3rd number:15\n",
            "b is greater\n"
          ],
          "name": "stdout"
        }
      ]
    },
    {
      "cell_type": "code",
      "metadata": {
        "id": "dOkWIXdsduuX",
        "outputId": "cbe11356-bf5b-4716-9828-e3be040d24c4"
      },
      "source": [
        "print(\"Nested if...else statement\")\n",
        "n = int(input(\"Enter a number:\")) \n",
        "if (n<=15):\n",
        "    if (n == 10):\n",
        "        print(\"play cricket\")  \n",
        "    else:\n",
        "        print(\"play kabadi\")\n",
        "else:\n",
        "    print(\"Don’t play game\")\n"
      ],
      "execution_count": null,
      "outputs": [
        {
          "output_type": "stream",
          "text": [
            "Nested if...else statement\n",
            "Enter a number:10\n",
            "play cricket\n"
          ],
          "name": "stdout"
        }
      ]
    },
    {
      "cell_type": "code",
      "metadata": {
        "id": "1KpNzhkRduuc"
      },
      "source": [
        "#CONTROL STATEMENTS\n"
      ],
      "execution_count": null,
      "outputs": []
    },
    {
      "cell_type": "code",
      "metadata": {
        "id": "nKA6-jm8duui",
        "outputId": "5e5f169b-0226-49b6-d515-dd579fb98e42"
      },
      "source": [
        "print(\"While loop- To find sum of number\")\n",
        "num = int(input(\"Enter a number: \"))\n",
        "sum = 0\n",
        "while(num > 0):  \n",
        "    sum = sum+num\n",
        "    num = num-1\n",
        "    print(\"The sum is\",sum)\n"
      ],
      "execution_count": null,
      "outputs": [
        {
          "output_type": "stream",
          "text": [
            "For loop- To find sum of number\n",
            "Enter a number: 10\n",
            "The sum is 10\n",
            "The sum is 19\n",
            "The sum is 27\n",
            "The sum is 34\n",
            "The sum is 40\n",
            "The sum is 45\n",
            "The sum is 49\n",
            "The sum is 52\n",
            "The sum is 54\n",
            "The sum is 55\n"
          ],
          "name": "stdout"
        }
      ]
    },
    {
      "cell_type": "code",
      "metadata": {
        "id": "5pLzHMjiduun",
        "outputId": "817e6467-5e4d-47c2-8b69-5b324de417cb"
      },
      "source": [
        "print(\"For loop- Addition of number using for loop \")\n",
        "\n",
        "numbers = [6, 5, 3, 8, 4, 2, 5, 4]\n",
        "sum1 = 0\n",
        "for val in numbers:  sum1 = sum1+val\n",
        "print(\"The sum is\", sum1)\n"
      ],
      "execution_count": null,
      "outputs": [
        {
          "output_type": "stream",
          "text": [
            "For loop- Addition of number using for loop \n",
            "The sum is 37\n"
          ],
          "name": "stdout"
        }
      ]
    },
    {
      "cell_type": "code",
      "metadata": {
        "id": "haroXQgqduuv",
        "outputId": "89fd46da-11bd-4b24-b04d-6e89339d2220"
      },
      "source": [
        "print(\"For loop with if-else \")\n",
        "genre = ['pop', 'rock', 'jazz']\n",
        "for i in range(len(genre)):\n",
        "    print(\"I like\", genre[i])\n"
      ],
      "execution_count": null,
      "outputs": [
        {
          "output_type": "stream",
          "text": [
            "For loop with if-else \n",
            "I like pop\n",
            "I like rock\n",
            "I like jazz\n"
          ],
          "name": "stdout"
        }
      ]
    },
    {
      "cell_type": "code",
      "metadata": {
        "id": "1Oq_AqaKduuz",
        "outputId": "7c39fe21-b9bf-4df4-bf87-c186cf8ff0df"
      },
      "source": [
        "genre = ['pop', 'rock', 'jazz']\n",
        "for i in range(len(genre)):\n",
        "    print(\"I like\", genre[i])\n",
        "else:\n",
        "    print(\"No items left.\")\n"
      ],
      "execution_count": null,
      "outputs": [
        {
          "output_type": "stream",
          "text": [
            "I like pop\n",
            "I like rock\n",
            "I like jazz\n",
            "No items left.\n"
          ],
          "name": "stdout"
        }
      ]
    }
  ]
}