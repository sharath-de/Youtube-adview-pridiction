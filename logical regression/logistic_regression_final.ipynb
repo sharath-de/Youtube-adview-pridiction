{
 "cells": [
  {
   "cell_type": "markdown",
   "metadata": {
    "id": "fdOXvhC4i09A"
   },
   "source": [
    "# Simple Example of Logistic Regression"
   ]
  },
  {
   "cell_type": "code",
   "execution_count": 1,
   "metadata": {
    "id": "S2VpxU1SzpwV"
   },
   "outputs": [],
   "source": [
    "import pandas as pd\n",
    "from sklearn.model_selection import train_test_split\n",
    "from sklearn.linear_model import LogisticRegression\n",
    "from sklearn import metrics\n",
    "import seaborn as sn"
   ]
  },
  {
   "cell_type": "code",
   "execution_count": 2,
   "metadata": {
    "id": "5GVpL5jPjACk"
   },
   "outputs": [
    {
     "data": {
      "text/html": [
       "<div>\n",
       "<style scoped>\n",
       "    .dataframe tbody tr th:only-of-type {\n",
       "        vertical-align: middle;\n",
       "    }\n",
       "\n",
       "    .dataframe tbody tr th {\n",
       "        vertical-align: top;\n",
       "    }\n",
       "\n",
       "    .dataframe thead th {\n",
       "        text-align: right;\n",
       "    }\n",
       "</style>\n",
       "<table border=\"1\" class=\"dataframe\">\n",
       "  <thead>\n",
       "    <tr style=\"text-align: right;\">\n",
       "      <th></th>\n",
       "      <th>gmat</th>\n",
       "      <th>gpa</th>\n",
       "      <th>work_experience</th>\n",
       "      <th>admitted</th>\n",
       "    </tr>\n",
       "  </thead>\n",
       "  <tbody>\n",
       "    <tr>\n",
       "      <th>0</th>\n",
       "      <td>780</td>\n",
       "      <td>4.0</td>\n",
       "      <td>3</td>\n",
       "      <td>1</td>\n",
       "    </tr>\n",
       "    <tr>\n",
       "      <th>1</th>\n",
       "      <td>750</td>\n",
       "      <td>3.9</td>\n",
       "      <td>4</td>\n",
       "      <td>1</td>\n",
       "    </tr>\n",
       "    <tr>\n",
       "      <th>2</th>\n",
       "      <td>690</td>\n",
       "      <td>3.3</td>\n",
       "      <td>3</td>\n",
       "      <td>0</td>\n",
       "    </tr>\n",
       "    <tr>\n",
       "      <th>3</th>\n",
       "      <td>710</td>\n",
       "      <td>3.7</td>\n",
       "      <td>5</td>\n",
       "      <td>1</td>\n",
       "    </tr>\n",
       "    <tr>\n",
       "      <th>4</th>\n",
       "      <td>680</td>\n",
       "      <td>3.9</td>\n",
       "      <td>4</td>\n",
       "      <td>0</td>\n",
       "    </tr>\n",
       "  </tbody>\n",
       "</table>\n",
       "</div>"
      ],
      "text/plain": [
       "   gmat  gpa  work_experience  admitted\n",
       "0   780  4.0                3         1\n",
       "1   750  3.9                4         1\n",
       "2   690  3.3                3         0\n",
       "3   710  3.7                5         1\n",
       "4   680  3.9                4         0"
      ]
     },
     "execution_count": 2,
     "metadata": {},
     "output_type": "execute_result"
    }
   ],
   "source": [
    "import pandas as pd\n",
    "candidates = {'gmat': [780,750,690,710,680,730,690,720,740,690,610,690,710,680,770,610,580,650,540,590,620,600,550,550,570,670,660,580,650,660,640,620,660,660,680,650,670,580,590,690],\n",
    "              'gpa': [4,3.9,3.3,3.7,3.9,3.7,2.3,3.3,3.3,1.7,2.7,3.7,3.7,3.3,3.3,3,2.7,3.7,2.7,2.3,3.3,2,2.3,2.7,3,3.3,3.7,2.3,3.7,3.3,3,2.7,4,3.3,3.3,2.3,2.7,3.3,1.7,3.7],\n",
    "              'work_experience': [3,4,3,5,4,6,1,4,5,1,3,5,6,4,3,1,4,6,2,3,2,1,4,1,2,6,4,2,6,5,1,2,4,6,5,1,2,1,4,5],\n",
    "              'admitted': [1,1,0,1,0,1,0,1,1,0,0,1,1,0,1,0,0,1,0,0,1,0,0,0,0,1,1,0,1,1,0,0,1,1,1,0,0,0,0,1]\n",
    "              }\n",
    "\n",
    "df = pd.DataFrame(candidates,columns= ['gmat', 'gpa','work_experience','admitted'])\n",
    "df.head()"
   ]
  },
  {
   "cell_type": "code",
   "execution_count": 3,
   "metadata": {
    "id": "SFEWKYt4jEKL"
   },
   "outputs": [],
   "source": [
    "X = df[['gmat', 'gpa','work_experience']]\n",
    "y = df['admitted']"
   ]
  },
  {
   "cell_type": "code",
   "execution_count": 4,
   "metadata": {
    "id": "DyuYEEq7jGoU"
   },
   "outputs": [],
   "source": [
    "X_train,X_test,y_train,y_test = train_test_split(X,y,test_size=0.25,random_state=0)"
   ]
  },
  {
   "cell_type": "code",
   "execution_count": 5,
   "metadata": {
    "id": "f9CFLrZjjS1U"
   },
   "outputs": [],
   "source": [
    "logistic_regression= LogisticRegression()\n",
    "logistic_regression.fit(X_train,y_train)\n",
    "y_pred=logistic_regression.predict(X_test)"
   ]
  },
  {
   "cell_type": "code",
   "execution_count": 6,
   "metadata": {
    "id": "IQH7MukZB6VF"
   },
   "outputs": [
    {
     "data": {
      "text/plain": [
       "array([0, 0, 1, 1, 0, 0, 1, 1, 0, 1], dtype=int64)"
      ]
     },
     "execution_count": 6,
     "metadata": {},
     "output_type": "execute_result"
    }
   ],
   "source": [
    "y_pred"
   ]
  },
  {
   "cell_type": "code",
   "execution_count": 7,
   "metadata": {
    "id": "jy0jPr0YjVb0"
   },
   "outputs": [
    {
     "data": {
      "text/plain": [
       "<matplotlib.axes._subplots.AxesSubplot at 0x22620211988>"
      ]
     },
     "execution_count": 7,
     "metadata": {},
     "output_type": "execute_result"
    },
    {
     "data": {
      "image/png": "[encoded data removed]",
      "text/plain": [
       "<Figure size 432x288 with 2 Axes>"
      ]
     },
     "metadata": {
      "needs_background": "light"
     },
     "output_type": "display_data"
    }
   ],
   "source": [
    "confusion_matrix = pd.crosstab(y_test, y_pred, rownames=['Actual'], colnames=['Predicted'])\n",
    "sn.heatmap(confusion_matrix, annot=True)"
   ]
  },
  {
   "cell_type": "code",
   "execution_count": 8,
   "metadata": {
    "id": "Q3liRbl5jacr"
   },
   "outputs": [
    {
     "name": "stdout",
     "output_type": "stream",
     "text": [
      "Accuracy:  0.8\n"
     ]
    }
   ],
   "source": [
    "print('Accuracy: ',metrics.accuracy_score(y_test, y_pred))"
   ]
  },
  {
   "cell_type": "markdown",
   "metadata": {
    "id": "ZD9EQ1mnHP8Y"
   },
   "source": [
    "# Second Example"
   ]
  },
  {
   "cell_type": "code",
   "execution_count": 9,
   "metadata": {
    "id": "9dOQBJJZoZ1O"
   },
   "outputs": [],
   "source": [
    "#Logistic Regression\n",
    "\n",
    "# Importing the libraries\n",
    "import numpy as np\n",
    "import matplotlib.pyplot as plt\n",
    "import pandas as pd"
   ]
  },
  {
   "cell_type": "code",
   "execution_count": 11,
   "metadata": {
    "id": "l4R4Eyhgov4W"
   },
   "outputs": [
    {
     "data": {
      "text/plain": [
       "(array([[1.90e+01, 1.90e+04],\n",
       "        [3.50e+01, 2.00e+04],\n",
       "        [2.60e+01, 4.30e+04],\n",
       "        [2.70e+01, 5.70e+04],\n",
       "        [1.90e+01, 7.60e+04],\n",
       "        [2.70e+01, 5.80e+04],\n",
       "        [2.70e+01, 8.40e+04],\n",
       "        [3.20e+01, 1.50e+05],\n",
       "        [2.50e+01, 3.30e+04],\n",
       "        [3.50e+01, 6.50e+04],\n",
       "        [2.60e+01, 8.00e+04],\n",
       "        [2.60e+01, 5.20e+04],\n",
       "        [2.00e+01, 8.60e+04],\n",
       "        [3.20e+01, 1.80e+04],\n",
       "        [1.80e+01, 8.20e+04],\n",
       "        [2.90e+01, 8.00e+04],\n",
       "        [4.70e+01, 2.50e+04],\n",
       "        [4.50e+01, 2.60e+04],\n",
       "        [4.60e+01, 2.80e+04],\n",
       "        [4.80e+01, 2.90e+04],\n",
       "        [4.50e+01, 2.20e+04],\n",
       "        [4.70e+01, 4.90e+04],\n",
       "        [4.80e+01, 4.10e+04],\n",
       "        [4.50e+01, 2.20e+04],\n",
       "        [4.60e+01, 2.30e+04],\n",
       "        [4.70e+01, 2.00e+04],\n",
       "        [4.90e+01, 2.80e+04],\n",
       "        [4.70e+01, 3.00e+04],\n",
       "        [2.90e+01, 4.30e+04],\n",
       "        [3.10e+01, 1.80e+04],\n",
       "        [3.10e+01, 7.40e+04],\n",
       "        [2.70e+01, 1.37e+05],\n",
       "        [2.10e+01, 1.60e+04],\n",
       "        [2.80e+01, 4.40e+04],\n",
       "        [2.70e+01, 9.00e+04],\n",
       "        [3.50e+01, 2.70e+04],\n",
       "        [3.30e+01, 2.80e+04],\n",
       "        [3.00e+01, 4.90e+04],\n",
       "        [2.60e+01, 7.20e+04],\n",
       "        [2.70e+01, 3.10e+04],\n",
       "        [2.70e+01, 1.70e+04],\n",
       "        [3.30e+01, 5.10e+04],\n",
       "        [3.50e+01, 1.08e+05],\n",
       "        [3.00e+01, 1.50e+04],\n",
       "        [2.80e+01, 8.40e+04],\n",
       "        [2.30e+01, 2.00e+04],\n",
       "        [2.50e+01, 7.90e+04],\n",
       "        [2.70e+01, 5.40e+04],\n",
       "        [3.00e+01, 1.35e+05],\n",
       "        [3.10e+01, 8.90e+04],\n",
       "        [2.40e+01, 3.20e+04],\n",
       "        [1.80e+01, 4.40e+04],\n",
       "        [2.90e+01, 8.30e+04],\n",
       "        [3.50e+01, 2.30e+04],\n",
       "        [2.70e+01, 5.80e+04],\n",
       "        [2.40e+01, 5.50e+04],\n",
       "        [2.30e+01, 4.80e+04],\n",
       "        [2.80e+01, 7.90e+04],\n",
       "        [2.20e+01, 1.80e+04],\n",
       "        [3.20e+01, 1.17e+05],\n",
       "        [2.70e+01, 2.00e+04],\n",
       "        [2.50e+01, 8.70e+04],\n",
       "        [2.30e+01, 6.60e+04],\n",
       "        [3.20e+01, 1.20e+05],\n",
       "        [5.90e+01, 8.30e+04],\n",
       "        [2.40e+01, 5.80e+04],\n",
       "        [2.40e+01, 1.90e+04],\n",
       "        [2.30e+01, 8.20e+04],\n",
       "        [2.20e+01, 6.30e+04],\n",
       "        [3.10e+01, 6.80e+04],\n",
       "        [2.50e+01, 8.00e+04],\n",
       "        [2.40e+01, 2.70e+04],\n",
       "        [2.00e+01, 2.30e+04],\n",
       "        [3.30e+01, 1.13e+05],\n",
       "        [3.20e+01, 1.80e+04],\n",
       "        [3.40e+01, 1.12e+05],\n",
       "        [1.80e+01, 5.20e+04],\n",
       "        [2.20e+01, 2.70e+04],\n",
       "        [2.80e+01, 8.70e+04],\n",
       "        [2.60e+01, 1.70e+04],\n",
       "        [3.00e+01, 8.00e+04],\n",
       "        [3.90e+01, 4.20e+04],\n",
       "        [2.00e+01, 4.90e+04],\n",
       "        [3.50e+01, 8.80e+04],\n",
       "        [3.00e+01, 6.20e+04],\n",
       "        [3.10e+01, 1.18e+05],\n",
       "        [2.40e+01, 5.50e+04],\n",
       "        [2.80e+01, 8.50e+04],\n",
       "        [2.60e+01, 8.10e+04],\n",
       "        [3.50e+01, 5.00e+04],\n",
       "        [2.20e+01, 8.10e+04],\n",
       "        [3.00e+01, 1.16e+05],\n",
       "        [2.60e+01, 1.50e+04],\n",
       "        [2.90e+01, 2.80e+04],\n",
       "        [2.90e+01, 8.30e+04],\n",
       "        [3.50e+01, 4.40e+04],\n",
       "        [3.50e+01, 2.50e+04],\n",
       "        [2.80e+01, 1.23e+05],\n",
       "        [3.50e+01, 7.30e+04],\n",
       "        [2.80e+01, 3.70e+04],\n",
       "        [2.70e+01, 8.80e+04],\n",
       "        [2.80e+01, 5.90e+04],\n",
       "        [3.20e+01, 8.60e+04],\n",
       "        [3.30e+01, 1.49e+05],\n",
       "        [1.90e+01, 2.10e+04],\n",
       "        [2.10e+01, 7.20e+04],\n",
       "        [2.60e+01, 3.50e+04],\n",
       "        [2.70e+01, 8.90e+04],\n",
       "        [2.60e+01, 8.60e+04],\n",
       "        [3.80e+01, 8.00e+04],\n",
       "        [3.90e+01, 7.10e+04],\n",
       "        [3.70e+01, 7.10e+04],\n",
       "        [3.80e+01, 6.10e+04],\n",
       "        [3.70e+01, 5.50e+04],\n",
       "        [4.20e+01, 8.00e+04],\n",
       "        [4.00e+01, 5.70e+04],\n",
       "        [3.50e+01, 7.50e+04],\n",
       "        [3.60e+01, 5.20e+04],\n",
       "        [4.00e+01, 5.90e+04],\n",
       "        [4.10e+01, 5.90e+04],\n",
       "        [3.60e+01, 7.50e+04],\n",
       "        [3.70e+01, 7.20e+04],\n",
       "        [4.00e+01, 7.50e+04],\n",
       "        [3.50e+01, 5.30e+04],\n",
       "        [4.10e+01, 5.10e+04],\n",
       "        [3.90e+01, 6.10e+04],\n",
       "        [4.20e+01, 6.50e+04],\n",
       "        [2.60e+01, 3.20e+04],\n",
       "        [3.00e+01, 1.70e+04],\n",
       "        [2.60e+01, 8.40e+04],\n",
       "        [3.10e+01, 5.80e+04],\n",
       "        [3.30e+01, 3.10e+04],\n",
       "        [3.00e+01, 8.70e+04],\n",
       "        [2.10e+01, 6.80e+04],\n",
       "        [2.80e+01, 5.50e+04],\n",
       "        [2.30e+01, 6.30e+04],\n",
       "        [2.00e+01, 8.20e+04],\n",
       "        [3.00e+01, 1.07e+05],\n",
       "        [2.80e+01, 5.90e+04],\n",
       "        [1.90e+01, 2.50e+04],\n",
       "        [1.90e+01, 8.50e+04],\n",
       "        [1.80e+01, 6.80e+04],\n",
       "        [3.50e+01, 5.90e+04],\n",
       "        [3.00e+01, 8.90e+04],\n",
       "        [3.40e+01, 2.50e+04],\n",
       "        [2.40e+01, 8.90e+04],\n",
       "        [2.70e+01, 9.60e+04],\n",
       "        [4.10e+01, 3.00e+04],\n",
       "        [2.90e+01, 6.10e+04],\n",
       "        [2.00e+01, 7.40e+04],\n",
       "        [2.60e+01, 1.50e+04],\n",
       "        [4.10e+01, 4.50e+04],\n",
       "        [3.10e+01, 7.60e+04],\n",
       "        [3.60e+01, 5.00e+04],\n",
       "        [4.00e+01, 4.70e+04],\n",
       "        [3.10e+01, 1.50e+04],\n",
       "        [4.60e+01, 5.90e+04],\n",
       "        [2.90e+01, 7.50e+04],\n",
       "        [2.60e+01, 3.00e+04],\n",
       "        [3.20e+01, 1.35e+05],\n",
       "        [3.20e+01, 1.00e+05],\n",
       "        [2.50e+01, 9.00e+04],\n",
       "        [3.70e+01, 3.30e+04],\n",
       "        [3.50e+01, 3.80e+04],\n",
       "        [3.30e+01, 6.90e+04],\n",
       "        [1.80e+01, 8.60e+04],\n",
       "        [2.20e+01, 5.50e+04],\n",
       "        [3.50e+01, 7.10e+04],\n",
       "        [2.90e+01, 1.48e+05],\n",
       "        [2.90e+01, 4.70e+04],\n",
       "        [2.10e+01, 8.80e+04],\n",
       "        [3.40e+01, 1.15e+05],\n",
       "        [2.60e+01, 1.18e+05],\n",
       "        [3.40e+01, 4.30e+04],\n",
       "        [3.40e+01, 7.20e+04],\n",
       "        [2.30e+01, 2.80e+04],\n",
       "        [3.50e+01, 4.70e+04],\n",
       "        [2.50e+01, 2.20e+04],\n",
       "        [2.40e+01, 2.30e+04],\n",
       "        [3.10e+01, 3.40e+04],\n",
       "        [2.60e+01, 1.60e+04],\n",
       "        [3.10e+01, 7.10e+04],\n",
       "        [3.20e+01, 1.17e+05],\n",
       "        [3.30e+01, 4.30e+04],\n",
       "        [3.30e+01, 6.00e+04],\n",
       "        [3.10e+01, 6.60e+04],\n",
       "        [2.00e+01, 8.20e+04],\n",
       "        [3.30e+01, 4.10e+04],\n",
       "        [3.50e+01, 7.20e+04],\n",
       "        [2.80e+01, 3.20e+04],\n",
       "        [2.40e+01, 8.40e+04],\n",
       "        [1.90e+01, 2.60e+04],\n",
       "        [2.90e+01, 4.30e+04],\n",
       "        [1.90e+01, 7.00e+04],\n",
       "        [2.80e+01, 8.90e+04],\n",
       "        [3.40e+01, 4.30e+04],\n",
       "        [3.00e+01, 7.90e+04],\n",
       "        [2.00e+01, 3.60e+04],\n",
       "        [2.60e+01, 8.00e+04],\n",
       "        [3.50e+01, 2.20e+04],\n",
       "        [3.50e+01, 3.90e+04],\n",
       "        [4.90e+01, 7.40e+04],\n",
       "        [3.90e+01, 1.34e+05],\n",
       "        [4.10e+01, 7.10e+04],\n",
       "        [5.80e+01, 1.01e+05],\n",
       "        [4.70e+01, 4.70e+04],\n",
       "        [5.50e+01, 1.30e+05],\n",
       "        [5.20e+01, 1.14e+05],\n",
       "        [4.00e+01, 1.42e+05],\n",
       "        [4.60e+01, 2.20e+04],\n",
       "        [4.80e+01, 9.60e+04],\n",
       "        [5.20e+01, 1.50e+05],\n",
       "        [5.90e+01, 4.20e+04],\n",
       "        [3.50e+01, 5.80e+04],\n",
       "        [4.70e+01, 4.30e+04],\n",
       "        [6.00e+01, 1.08e+05],\n",
       "        [4.90e+01, 6.50e+04],\n",
       "        [4.00e+01, 7.80e+04],\n",
       "        [4.60e+01, 9.60e+04],\n",
       "        [5.90e+01, 1.43e+05],\n",
       "        [4.10e+01, 8.00e+04],\n",
       "        [3.50e+01, 9.10e+04],\n",
       "        [3.70e+01, 1.44e+05],\n",
       "        [6.00e+01, 1.02e+05],\n",
       "        [3.50e+01, 6.00e+04],\n",
       "        [3.70e+01, 5.30e+04],\n",
       "        [3.60e+01, 1.26e+05],\n",
       "        [5.60e+01, 1.33e+05],\n",
       "        [4.00e+01, 7.20e+04],\n",
       "        [4.20e+01, 8.00e+04],\n",
       "        [3.50e+01, 1.47e+05],\n",
       "        [3.90e+01, 4.20e+04],\n",
       "        [4.00e+01, 1.07e+05],\n",
       "        [4.90e+01, 8.60e+04],\n",
       "        [3.80e+01, 1.12e+05],\n",
       "        [4.60e+01, 7.90e+04],\n",
       "        [4.00e+01, 5.70e+04],\n",
       "        [3.70e+01, 8.00e+04],\n",
       "        [4.60e+01, 8.20e+04],\n",
       "        [5.30e+01, 1.43e+05],\n",
       "        [4.20e+01, 1.49e+05],\n",
       "        [3.80e+01, 5.90e+04],\n",
       "        [5.00e+01, 8.80e+04],\n",
       "        [5.60e+01, 1.04e+05],\n",
       "        [4.10e+01, 7.20e+04],\n",
       "        [5.10e+01, 1.46e+05],\n",
       "        [3.50e+01, 5.00e+04],\n",
       "        [5.70e+01, 1.22e+05],\n",
       "        [4.10e+01, 5.20e+04],\n",
       "        [3.50e+01, 9.70e+04],\n",
       "        [4.40e+01, 3.90e+04],\n",
       "        [3.70e+01, 5.20e+04],\n",
       "        [4.80e+01, 1.34e+05],\n",
       "        [3.70e+01, 1.46e+05],\n",
       "        [5.00e+01, 4.40e+04],\n",
       "        [5.20e+01, 9.00e+04],\n",
       "        [4.10e+01, 7.20e+04],\n",
       "        [4.00e+01, 5.70e+04],\n",
       "        [5.80e+01, 9.50e+04],\n",
       "        [4.50e+01, 1.31e+05],\n",
       "        [3.50e+01, 7.70e+04],\n",
       "        [3.60e+01, 1.44e+05],\n",
       "        [5.50e+01, 1.25e+05],\n",
       "        [3.50e+01, 7.20e+04],\n",
       "        [4.80e+01, 9.00e+04],\n",
       "        [4.20e+01, 1.08e+05],\n",
       "        [4.00e+01, 7.50e+04],\n",
       "        [3.70e+01, 7.40e+04],\n",
       "        [4.70e+01, 1.44e+05],\n",
       "        [4.00e+01, 6.10e+04],\n",
       "        [4.30e+01, 1.33e+05],\n",
       "        [5.90e+01, 7.60e+04],\n",
       "        [6.00e+01, 4.20e+04],\n",
       "        [3.90e+01, 1.06e+05],\n",
       "        [5.70e+01, 2.60e+04],\n",
       "        [5.70e+01, 7.40e+04],\n",
       "        [3.80e+01, 7.10e+04],\n",
       "        [4.90e+01, 8.80e+04],\n",
       "        [5.20e+01, 3.80e+04],\n",
       "        [5.00e+01, 3.60e+04],\n",
       "        [5.90e+01, 8.80e+04],\n",
       "        [3.50e+01, 6.10e+04],\n",
       "        [3.70e+01, 7.00e+04],\n",
       "        [5.20e+01, 2.10e+04],\n",
       "        [4.80e+01, 1.41e+05],\n",
       "        [3.70e+01, 9.30e+04],\n",
       "        [3.70e+01, 6.20e+04],\n",
       "        [4.80e+01, 1.38e+05],\n",
       "        [4.10e+01, 7.90e+04],\n",
       "        [3.70e+01, 7.80e+04],\n",
       "        [3.90e+01, 1.34e+05],\n",
       "        [4.90e+01, 8.90e+04],\n",
       "        [5.50e+01, 3.90e+04],\n",
       "        [3.70e+01, 7.70e+04],\n",
       "        [3.50e+01, 5.70e+04],\n",
       "        [3.60e+01, 6.30e+04],\n",
       "        [4.20e+01, 7.30e+04],\n",
       "        [4.30e+01, 1.12e+05],\n",
       "        [4.50e+01, 7.90e+04],\n",
       "        [4.60e+01, 1.17e+05],\n",
       "        [5.80e+01, 3.80e+04],\n",
       "        [4.80e+01, 7.40e+04],\n",
       "        [3.70e+01, 1.37e+05],\n",
       "        [3.70e+01, 7.90e+04],\n",
       "        [4.00e+01, 6.00e+04],\n",
       "        [4.20e+01, 5.40e+04],\n",
       "        [5.10e+01, 1.34e+05],\n",
       "        [4.70e+01, 1.13e+05],\n",
       "        [3.60e+01, 1.25e+05],\n",
       "        [3.80e+01, 5.00e+04],\n",
       "        [4.20e+01, 7.00e+04],\n",
       "        [3.90e+01, 9.60e+04],\n",
       "        [3.80e+01, 5.00e+04],\n",
       "        [4.90e+01, 1.41e+05],\n",
       "        [3.90e+01, 7.90e+04],\n",
       "        [3.90e+01, 7.50e+04],\n",
       "        [5.40e+01, 1.04e+05],\n",
       "        [3.50e+01, 5.50e+04],\n",
       "        [4.50e+01, 3.20e+04],\n",
       "        [3.60e+01, 6.00e+04],\n",
       "        [5.20e+01, 1.38e+05],\n",
       "        [5.30e+01, 8.20e+04],\n",
       "        [4.10e+01, 5.20e+04],\n",
       "        [4.80e+01, 3.00e+04],\n",
       "        [4.80e+01, 1.31e+05],\n",
       "        [4.10e+01, 6.00e+04],\n",
       "        [4.10e+01, 7.20e+04],\n",
       "        [4.20e+01, 7.50e+04],\n",
       "        [3.60e+01, 1.18e+05],\n",
       "        [4.70e+01, 1.07e+05],\n",
       "        [3.80e+01, 5.10e+04],\n",
       "        [4.80e+01, 1.19e+05],\n",
       "        [4.20e+01, 6.50e+04],\n",
       "        [4.00e+01, 6.50e+04],\n",
       "        [5.70e+01, 6.00e+04],\n",
       "        [3.60e+01, 5.40e+04],\n",
       "        [5.80e+01, 1.44e+05],\n",
       "        [3.50e+01, 7.90e+04],\n",
       "        [3.80e+01, 5.50e+04],\n",
       "        [3.90e+01, 1.22e+05],\n",
       "        [5.30e+01, 1.04e+05],\n",
       "        [3.50e+01, 7.50e+04],\n",
       "        [3.80e+01, 6.50e+04],\n",
       "        [4.70e+01, 5.10e+04],\n",
       "        [4.70e+01, 1.05e+05],\n",
       "        [4.10e+01, 6.30e+04],\n",
       "        [5.30e+01, 7.20e+04],\n",
       "        [5.40e+01, 1.08e+05],\n",
       "        [3.90e+01, 7.70e+04],\n",
       "        [3.80e+01, 6.10e+04],\n",
       "        [3.80e+01, 1.13e+05],\n",
       "        [3.70e+01, 7.50e+04],\n",
       "        [4.20e+01, 9.00e+04],\n",
       "        [3.70e+01, 5.70e+04],\n",
       "        [3.60e+01, 9.90e+04],\n",
       "        [6.00e+01, 3.40e+04],\n",
       "        [5.40e+01, 7.00e+04],\n",
       "        [4.10e+01, 7.20e+04],\n",
       "        [4.00e+01, 7.10e+04],\n",
       "        [4.20e+01, 5.40e+04],\n",
       "        [4.30e+01, 1.29e+05],\n",
       "        [5.30e+01, 3.40e+04],\n",
       "        [4.70e+01, 5.00e+04],\n",
       "        [4.20e+01, 7.90e+04],\n",
       "        [4.20e+01, 1.04e+05],\n",
       "        [5.90e+01, 2.90e+04],\n",
       "        [5.80e+01, 4.70e+04],\n",
       "        [4.60e+01, 8.80e+04],\n",
       "        [3.80e+01, 7.10e+04],\n",
       "        [5.40e+01, 2.60e+04],\n",
       "        [6.00e+01, 4.60e+04],\n",
       "        [6.00e+01, 8.30e+04],\n",
       "        [3.90e+01, 7.30e+04],\n",
       "        [5.90e+01, 1.30e+05],\n",
       "        [3.70e+01, 8.00e+04],\n",
       "        [4.60e+01, 3.20e+04],\n",
       "        [4.60e+01, 7.40e+04],\n",
       "        [4.20e+01, 5.30e+04],\n",
       "        [4.10e+01, 8.70e+04],\n",
       "        [5.80e+01, 2.30e+04],\n",
       "        [4.20e+01, 6.40e+04],\n",
       "        [4.80e+01, 3.30e+04],\n",
       "        [4.40e+01, 1.39e+05],\n",
       "        [4.90e+01, 2.80e+04],\n",
       "        [5.70e+01, 3.30e+04],\n",
       "        [5.60e+01, 6.00e+04],\n",
       "        [4.90e+01, 3.90e+04],\n",
       "        [3.90e+01, 7.10e+04],\n",
       "        [4.70e+01, 3.40e+04],\n",
       "        [4.80e+01, 3.50e+04],\n",
       "        [4.80e+01, 3.30e+04],\n",
       "        [4.70e+01, 2.30e+04],\n",
       "        [4.50e+01, 4.50e+04],\n",
       "        [6.00e+01, 4.20e+04],\n",
       "        [3.90e+01, 5.90e+04],\n",
       "        [4.60e+01, 4.10e+04],\n",
       "        [5.10e+01, 2.30e+04],\n",
       "        [5.00e+01, 2.00e+04],\n",
       "        [3.60e+01, 3.30e+04],\n",
       "        [4.90e+01, 3.60e+04]]),\n",
       " array([0, 0, 0, 0, 0, 0, 0, 1, 0, 0, 0, 0, 0, 0, 0, 0, 1, 1, 1, 1, 1, 1,\n",
       "        1, 1, 1, 1, 1, 1, 0, 0, 0, 1, 0, 0, 0, 0, 0, 0, 0, 0, 0, 0, 0, 0,\n",
       "        0, 0, 0, 0, 1, 0, 0, 0, 0, 0, 0, 0, 0, 0, 0, 0, 0, 0, 0, 1, 0, 0,\n",
       "        0, 0, 0, 0, 0, 0, 0, 0, 0, 1, 0, 0, 0, 0, 0, 0, 0, 0, 0, 1, 0, 0,\n",
       "        0, 0, 0, 0, 0, 0, 0, 0, 0, 1, 0, 0, 0, 0, 0, 1, 0, 0, 0, 0, 0, 0,\n",
       "        0, 0, 0, 0, 0, 0, 0, 0, 0, 0, 0, 0, 0, 0, 0, 0, 0, 0, 0, 0, 0, 0,\n",
       "        0, 0, 0, 0, 0, 1, 0, 0, 0, 0, 0, 0, 0, 0, 1, 0, 0, 0, 0, 0, 0, 0,\n",
       "        0, 0, 0, 0, 0, 1, 1, 0, 0, 0, 0, 0, 0, 0, 1, 0, 0, 0, 0, 0, 0, 0,\n",
       "        0, 0, 0, 0, 0, 0, 1, 0, 0, 0, 0, 0, 0, 0, 0, 0, 0, 0, 0, 0, 0, 0,\n",
       "        0, 0, 0, 0, 1, 0, 1, 0, 1, 0, 1, 0, 1, 1, 0, 0, 0, 1, 0, 0, 0, 1,\n",
       "        0, 1, 1, 1, 0, 0, 1, 1, 0, 1, 1, 0, 1, 1, 0, 1, 0, 0, 0, 1, 1, 0,\n",
       "        1, 1, 0, 1, 0, 1, 0, 1, 0, 0, 1, 1, 0, 1, 0, 0, 1, 1, 0, 1, 1, 0,\n",
       "        1, 1, 0, 0, 1, 0, 0, 1, 1, 1, 1, 1, 0, 1, 1, 1, 1, 0, 1, 1, 0, 1,\n",
       "        0, 1, 0, 1, 1, 1, 1, 0, 0, 0, 1, 1, 0, 1, 1, 1, 1, 1, 0, 0, 0, 1,\n",
       "        1, 0, 0, 1, 0, 1, 0, 1, 1, 0, 1, 0, 1, 1, 0, 1, 1, 0, 0, 0, 1, 1,\n",
       "        0, 1, 0, 0, 1, 0, 1, 0, 0, 1, 1, 0, 0, 1, 1, 0, 1, 1, 0, 0, 1, 0,\n",
       "        1, 0, 1, 1, 1, 0, 1, 0, 1, 1, 1, 0, 1, 1, 1, 1, 0, 1, 1, 1, 0, 1,\n",
       "        0, 1, 0, 0, 1, 1, 0, 1, 1, 1, 1, 1, 1, 0, 1, 1, 1, 1, 1, 1, 0, 1,\n",
       "        1, 1, 0, 1], dtype=int64))"
      ]
     },
     "execution_count": 11,
     "metadata": {},
     "output_type": "execute_result"
    }
   ],
   "source": [
    "# Importing the dataset\n",
    "dataset = pd.read_csv('Ads.csv')\n",
    "x = dataset.iloc[:, [2,3]].values\n",
    "y = dataset.iloc[:, 4].values\n",
    "x, y"
   ]
  },
  {
   "cell_type": "code",
   "execution_count": 12,
   "metadata": {
    "id": "DqhsnfUepVj3"
   },
   "outputs": [],
   "source": [
    "# Splitting the dataset into the Training set and Test set\n",
    "from sklearn.model_selection import train_test_split\n",
    "x_train, x_test, y_train, y_test = train_test_split(x, y, test_size = 0.25)"
   ]
  },
  {
   "cell_type": "code",
   "execution_count": 13,
   "metadata": {
    "colab": {
     "base_uri": "https://localhost:8080/",
     "height": 1000
    },
    "id": "XetGIRyjphfc",
    "outputId": "d90d458c-9cae-4ee1-cda2-db56bca078ea"
   },
   "outputs": [
    {
     "data": {
      "text/plain": [
       "(array([[-0.87135889,  0.44838098],\n",
       "        [-0.29557108, -0.61872228],\n",
       "        [-0.29557108, -1.35976621],\n",
       "        [-1.15925279, -1.53761675],\n",
       "        [ 0.1842521 ,  2.19724466],\n",
       "        [-0.77539425, -1.56725851],\n",
       "        [-0.39153571, -1.27084094],\n",
       "        [ 0.28021673, -0.23337944],\n",
       "        [-0.19960644, -0.23337944],\n",
       "        [-1.7350406 , -0.94478161],\n",
       "        [-0.67942962,  0.00375462],\n",
       "        [ 0.95196918, -1.15227391],\n",
       "        [ 0.1842521 ,  0.21124692],\n",
       "        [-0.29557108, -1.27084094],\n",
       "        [-0.00767717,  0.09267989],\n",
       "        [-1.35118206, -0.29266295],\n",
       "        [-1.06328816, -0.32230471],\n",
       "        [ 0.66407527, -0.67800579],\n",
       "        [ 0.1842521 ,  0.30017219],\n",
       "        [ 1.43179235,  0.41873922],\n",
       "        [-1.83100524,  0.24088868],\n",
       "        [-0.29557108, -0.85585634],\n",
       "        [-0.48750035,  2.40473696],\n",
       "        [-1.92696987,  0.53730625],\n",
       "        [ 0.28021673,  0.32981395],\n",
       "        [ 0.08828746,  1.60440951],\n",
       "        [ 0.85600454, -0.73728931],\n",
       "        [-1.92696987,  0.00375462],\n",
       "        [ 1.81565089, -1.03370688],\n",
       "        [ 0.66407527,  0.32981395],\n",
       "        [-0.19960644, -0.52979701],\n",
       "        [ 0.472146  ,  1.30799194],\n",
       "        [-0.10364181, -0.17409592],\n",
       "        [ 0.66407527, -1.35976621],\n",
       "        [ 0.95196918,  1.9601106 ],\n",
       "        [-0.29557108, -0.38158822],\n",
       "        [-0.29557108, -0.32230471],\n",
       "        [ 2.00758016,  2.22688641],\n",
       "        [-1.06328816,  0.83372382],\n",
       "        [-0.10364181,  2.25652817],\n",
       "        [-0.96732352,  1.63405127],\n",
       "        [ 0.95196918,  2.07867763],\n",
       "        [-1.25521743, -1.35976621],\n",
       "        [ 1.81565089, -1.24119918],\n",
       "        [-0.87135889, -0.61872228],\n",
       "        [-1.83100524, -1.38940797],\n",
       "        [ 0.08828746,  0.21124692],\n",
       "        [ 0.08828746,  0.15196341],\n",
       "        [-0.39153571, -0.73728931],\n",
       "        [-0.29557108,  0.15196341],\n",
       "        [-0.87135889,  0.44838098],\n",
       "        [-0.10364181,  0.06303814],\n",
       "        [ 0.37618137,  0.35945571],\n",
       "        [ 1.04793381, -1.18191567],\n",
       "        [ 1.52775699,  0.06303814],\n",
       "        [ 0.95196918,  0.65587328],\n",
       "        [ 1.62372162,  1.84154357],\n",
       "        [ 2.00758016,  0.24088868],\n",
       "        [-0.77539425,  0.32981395],\n",
       "        [ 0.76003991,  1.45620073],\n",
       "        [ 0.85600454, -1.00406512],\n",
       "        [-1.15925279, -1.06334864],\n",
       "        [ 1.71968626,  1.93046884],\n",
       "        [ 1.04793381, -0.85585634],\n",
       "        [-0.77539425,  1.15978315],\n",
       "        [ 0.76003991,  0.59658977],\n",
       "        [-1.63907597,  0.59658977],\n",
       "        [ 1.23986308, -1.33012445],\n",
       "        [ 0.76003991, -0.79657282],\n",
       "        [ 0.95196918, -1.03370688],\n",
       "        [-1.63907597, -1.53761675],\n",
       "        [ 1.43179235,  1.07085788],\n",
       "        [-0.58346498, -1.47833324],\n",
       "        [-0.96732352,  0.47802274],\n",
       "        [-0.77539425,  1.98975236],\n",
       "        [-1.06328816, -0.41122998],\n",
       "        [ 2.1035448 ,  0.44838098],\n",
       "        [-0.29557108,  0.21124692],\n",
       "        [-0.96732352, -0.38158822],\n",
       "        [-1.15925279,  0.35945571],\n",
       "        [ 1.33582772,  2.43437871],\n",
       "        [-1.4471467 ,  0.41873922],\n",
       "        [ 0.95196918, -1.12263215],\n",
       "        [ 0.95196918,  0.83372382],\n",
       "        [ 0.1842521 , -0.26302119],\n",
       "        [ 0.08828746, -0.76693106],\n",
       "        [ 1.14389845, -0.94478161],\n",
       "        [ 0.08828746, -0.26302119],\n",
       "        [ 0.1842521 ,  0.21124692],\n",
       "        [ 0.37618137,  0.65587328],\n",
       "        [-0.67942962,  0.09267989],\n",
       "        [-0.19960644, -1.03370688],\n",
       "        [-0.29557108,  0.59658977],\n",
       "        [ 0.76003991,  0.32981395],\n",
       "        [ 0.28021673,  0.35945571],\n",
       "        [ 1.91161553, -0.88549809],\n",
       "        [-1.06328816, -1.41904972],\n",
       "        [ 2.1035448 ,  1.18942491],\n",
       "        [ 1.33582772, -1.38940797],\n",
       "        [-0.29557108, -1.33012445],\n",
       "        [-0.48750035, -0.73728931],\n",
       "        [ 0.37618137, -0.41122998],\n",
       "        [ 0.85600454, -1.33012445],\n",
       "        [ 0.37618137, -0.41122998],\n",
       "        [ 2.00758016,  0.44838098],\n",
       "        [-0.48750035,  0.03339638],\n",
       "        [-0.48750035, -1.09299039],\n",
       "        [ 1.04793381,  2.1676029 ],\n",
       "        [-0.29557108,  0.32981395],\n",
       "        [-0.00767717,  1.3376337 ],\n",
       "        [-0.67942962,  0.62623152],\n",
       "        [-0.19960644,  0.9226491 ],\n",
       "        [-0.10364181, -0.47051349],\n",
       "        [ 1.43179235, -1.00406512],\n",
       "        [ 2.00758016,  1.84154357],\n",
       "        [-0.29557108,  0.12232165],\n",
       "        [ 1.14389845, -0.70764755],\n",
       "        [-1.92696987, -0.70764755],\n",
       "        [-0.00767717, -0.52979701],\n",
       "        [-0.00767717, -0.52979701],\n",
       "        [-0.29557108, -0.70764755],\n",
       "        [ 0.1842521 , -0.32230471],\n",
       "        [-0.00767717,  1.30799194],\n",
       "        [-1.54311133, -0.14445416],\n",
       "        [ 1.43179235,  0.12232165],\n",
       "        [-0.19960644, -0.47051349],\n",
       "        [ 0.08828746,  0.32981395],\n",
       "        [ 0.37618137,  1.18942491],\n",
       "        [-0.10364181,  0.27053044],\n",
       "        [ 0.472146  ,  1.93046884],\n",
       "        [ 0.28021673, -0.50015525],\n",
       "        [-1.4471467 , -0.58908052],\n",
       "        [ 0.66407527, -1.24119918],\n",
       "        [-0.77539425,  0.56694801],\n",
       "        [ 0.08828746, -0.20373768],\n",
       "        [-0.67942962, -1.47833324],\n",
       "        [ 1.04793381, -0.08517065],\n",
       "        [-1.06328816, -0.29266295],\n",
       "        [ 0.472146  ,  1.81190181],\n",
       "        [ 2.1035448 , -0.64836404],\n",
       "        [ 2.1035448 , -0.76693106],\n",
       "        [-1.06328816,  0.62623152],\n",
       "        [ 0.28021673,  0.12232165],\n",
       "        [-0.10364181,  0.30017219],\n",
       "        [ 1.81565089,  0.18160517],\n",
       "        [-0.00767717, -0.08517065],\n",
       "        [-0.58346498, -1.47833324],\n",
       "        [-0.58346498,  0.53730625],\n",
       "        [-0.67942962,  1.48584248],\n",
       "        [-0.77539425,  0.62623152],\n",
       "        [-1.15925279,  1.48584248],\n",
       "        [ 0.85600454,  1.15978315],\n",
       "        [-1.4471467 , -0.14445416],\n",
       "        [-0.29557108, -0.20373768],\n",
       "        [-1.54311133, -0.38158822],\n",
       "        [-0.19960644,  0.21124692],\n",
       "        [-1.06328816, -1.507975  ],\n",
       "        [-0.00767717, -0.20373768],\n",
       "        [ 1.33582772,  2.07867763],\n",
       "        [-1.06328816, -0.29266295],\n",
       "        [ 1.04793381,  0.18160517],\n",
       "        [ 0.76003991, -0.26302119],\n",
       "        [-1.25521743,  0.32981395],\n",
       "        [-0.96732352,  0.5076645 ],\n",
       "        [-1.25521743,  0.56694801],\n",
       "        [-1.15925279, -0.73728931],\n",
       "        [-1.35118206,  0.62623152],\n",
       "        [ 0.28021673, -0.47051349],\n",
       "        [-1.92696987, -0.47051349],\n",
       "        [-0.10364181, -0.44087174],\n",
       "        [-1.15925279,  0.38909747],\n",
       "        [-0.96732352,  0.56694801],\n",
       "        [ 1.33582772,  1.36727545],\n",
       "        [-1.92696987,  0.41873922],\n",
       "        [-1.15925279, -0.47051349],\n",
       "        [-0.29557108, -0.52979701],\n",
       "        [-1.83100524, -1.24119918],\n",
       "        [-0.29557108,  0.09267989],\n",
       "        [-0.77539425, -0.17409592],\n",
       "        [-0.19960644,  1.69333478],\n",
       "        [ 2.1035448 , -1.00406512],\n",
       "        [-1.06328816, -1.09299039],\n",
       "        [ 0.1842521 , -0.61872228],\n",
       "        [ 0.08828746,  1.1301414 ],\n",
       "        [ 0.37618137,  0.06303814],\n",
       "        [-0.00767717, -0.38158822],\n",
       "        [-1.25521743,  0.65587328],\n",
       "        [-0.67942962,  0.18160517],\n",
       "        [-0.67942962,  0.24088868],\n",
       "        [ 0.76003991,  0.41873922],\n",
       "        [-0.58346498,  1.45620073],\n",
       "        [ 0.76003991, -1.33012445],\n",
       "        [ 0.85600454, -0.50015525],\n",
       "        [-0.96732352,  0.62623152],\n",
       "        [-1.7350406 , -1.33012445],\n",
       "        [-0.48750035, -1.18191567],\n",
       "        [ 0.1842521 , -0.23337944],\n",
       "        [-0.77539425, -1.507975  ],\n",
       "        [-0.00767717,  0.35945571],\n",
       "        [-0.29557108, -0.44087174],\n",
       "        [-1.4471467 , -1.18191567],\n",
       "        [-1.15925279,  0.53730625],\n",
       "        [ 0.85600454, -1.12263215],\n",
       "        [ 0.56811064, -0.85585634],\n",
       "        [-0.58346498,  0.95229085],\n",
       "        [-0.10364181,  0.74479855],\n",
       "        [ 1.71968626,  1.07085788],\n",
       "        [ 0.76003991,  0.18160517],\n",
       "        [-0.77539425,  1.42655897],\n",
       "        [-0.10364181,  0.21124692],\n",
       "        [-0.10364181,  0.32981395],\n",
       "        [ 0.1842521 , -0.32230471],\n",
       "        [-0.29557108, -0.26302119],\n",
       "        [ 0.1842521 , -0.08517065],\n",
       "        [-1.35118206, -0.38158822],\n",
       "        [-1.54311133, -1.47833324],\n",
       "        [ 2.00758016, -0.76693106],\n",
       "        [-0.96732352, -0.70764755],\n",
       "        [ 0.08828746,  1.9601106 ],\n",
       "        [-0.10364181,  0.18160517],\n",
       "        [-0.29557108, -0.88549809],\n",
       "        [ 0.85600454, -1.41904972],\n",
       "        [-1.35118206,  0.47802274],\n",
       "        [ 0.08828746,  1.9601106 ],\n",
       "        [-0.77539425, -0.55943876],\n",
       "        [ 0.37618137,  2.40473696],\n",
       "        [ 1.23986308,  1.9601106 ],\n",
       "        [-0.29557108,  0.27053044],\n",
       "        [-0.19960644,  1.48584248],\n",
       "        [-1.7350406 ,  0.18160517],\n",
       "        [ 0.85600454, -1.27084094],\n",
       "        [ 1.91161553,  2.25652817],\n",
       "        [ 0.95196918,  0.18160517],\n",
       "        [ 2.00758016, -1.15227391],\n",
       "        [-0.67942962, -0.29266295],\n",
       "        [-1.35118206, -1.44869148],\n",
       "        [ 0.08828746,  0.09267989],\n",
       "        [ 1.33582772, -0.88549809],\n",
       "        [ 0.85600454, -0.61872228],\n",
       "        [-0.67942962, -1.56725851],\n",
       "        [ 0.1842521 ,  0.12232165],\n",
       "        [ 1.33582772,  0.65587328],\n",
       "        [-0.19960644, -0.14445416],\n",
       "        [-0.10364181, -0.32230471],\n",
       "        [ 1.52775699, -1.24119918],\n",
       "        [ 1.62372162, -0.85585634],\n",
       "        [ 0.95196918,  2.1676029 ],\n",
       "        [ 0.37618137,  0.15196341],\n",
       "        [-0.19960644, -0.41122998],\n",
       "        [ 0.85600454,  2.25652817],\n",
       "        [-0.00767717, -0.26302119],\n",
       "        [ 0.85600454, -0.55943876],\n",
       "        [ 0.95196918, -0.79657282],\n",
       "        [-0.29557108,  0.68551504],\n",
       "        [-0.39153571,  0.12232165],\n",
       "        [ 1.91161553, -1.33012445],\n",
       "        [-0.96732352, -1.06334864],\n",
       "        [ 0.66407527,  1.87118533],\n",
       "        [ 0.95196918,  1.87118533],\n",
       "        [ 0.28021673,  0.09267989],\n",
       "        [-0.48750035, -0.79657282],\n",
       "        [-0.29557108, -1.41904972],\n",
       "        [ 0.28021673, -0.26302119],\n",
       "        [ 0.66407527, -1.35976621],\n",
       "        [ 0.85600454,  1.10049964],\n",
       "        [-1.25521743,  0.35945571],\n",
       "        [-1.63907597,  0.12232165],\n",
       "        [ 0.37618137,  0.21124692],\n",
       "        [-0.10364181,  0.12232165],\n",
       "        [ 0.37618137, -0.08517065],\n",
       "        [ 1.91161553,  0.80408207],\n",
       "        [ 0.28021673, -0.47051349],\n",
       "        [-1.15925279,  0.47802274],\n",
       "        [ 0.85600454,  1.3376337 ],\n",
       "        [ 1.81565089, -0.23337944],\n",
       "        [-0.29557108, -0.23337944],\n",
       "        [ 0.66407527, -1.06334864],\n",
       "        [-0.67942962, -1.00406512],\n",
       "        [-0.48750035, -0.23337944],\n",
       "        [ 1.04793381,  0.62623152],\n",
       "        [-1.7350406 ,  0.41873922],\n",
       "        [-0.19960644,  1.72297654],\n",
       "        [-0.29557108,  2.34545344],\n",
       "        [ 0.1842521 ,  1.15978315],\n",
       "        [ 0.95196918, -1.03370688],\n",
       "        [-1.35118206, -0.38158822],\n",
       "        [-0.87135889, -0.73728931],\n",
       "        [ 2.1035448 , -0.76693106],\n",
       "        [ 0.76003991, -1.35976621],\n",
       "        [-1.4471467 , -1.41904972],\n",
       "        [-0.96732352, -0.26302119],\n",
       "        [-0.87135889, -1.18191567],\n",
       "        [-0.00767717, -0.20373768],\n",
       "        [-1.15925279, -1.507975  ],\n",
       "        [ 1.04793381, -1.18191567],\n",
       "        [-0.00767717,  0.09267989],\n",
       "        [ 0.28021673,  0.12232165],\n",
       "        [-0.29557108, -1.21155742],\n",
       "        [ 0.95196918,  1.51548424],\n",
       "        [-1.35118206, -1.33012445]]),\n",
       " array([[ 0.95196918, -0.97442337],\n",
       "        [ 0.37618137, -0.11481241],\n",
       "        [-0.96732352, -0.26302119],\n",
       "        [-1.35118206, -1.06334864],\n",
       "        [-0.39153571, -0.73728931],\n",
       "        [-0.39153571,  1.39691721],\n",
       "        [-1.15925279, -1.12263215],\n",
       "        [-1.83100524,  0.06303814],\n",
       "        [-1.83100524, -1.44869148],\n",
       "        [-1.06328816,  2.04903587],\n",
       "        [-0.19960644,  2.25652817],\n",
       "        [-1.15925279,  0.35945571],\n",
       "        [-0.29557108,  0.12232165],\n",
       "        [ 0.85600454, -0.52979701],\n",
       "        [ 0.08828746,  0.27053044],\n",
       "        [-0.67942962, -0.05552889],\n",
       "        [-0.87135889, -0.20373768],\n",
       "        [ 1.04793381, -0.94478161],\n",
       "        [-1.15925279, -1.56725851],\n",
       "        [ 1.91161553,  0.98193261],\n",
       "        [-0.10364181,  2.04903587],\n",
       "        [-1.06328816,  0.65587328],\n",
       "        [-1.83100524,  0.5076645 ],\n",
       "        [ 0.37618137,  0.32981395],\n",
       "        [ 0.08828746,  0.09267989],\n",
       "        [-1.54311133,  0.38909747],\n",
       "        [-1.4471467 , -0.05552889],\n",
       "        [ 1.04793381,  0.53730625],\n",
       "        [-0.10364181, -0.38158822],\n",
       "        [ 0.76003991,  0.83372382],\n",
       "        [-1.54311133, -1.21155742],\n",
       "        [-0.29557108,  1.18942491],\n",
       "        [ 0.08828746, -0.76693106],\n",
       "        [ 0.1842521 , -0.20373768],\n",
       "        [ 1.52775699,  1.07085788],\n",
       "        [-0.58346498,  1.98975236],\n",
       "        [ 0.1842521 ,  0.09267989],\n",
       "        [ 1.52775699,  1.18942491],\n",
       "        [-1.7350406 ,  0.53730625],\n",
       "        [ 1.62372162,  1.69333478],\n",
       "        [-0.10364181,  0.35945571],\n",
       "        [ 0.37618137, -0.44087174],\n",
       "        [ 0.37618137,  0.35945571],\n",
       "        [-1.15925279, -0.97442337],\n",
       "        [ 0.28021673, -1.12263215],\n",
       "        [-0.48750035,  1.3376337 ],\n",
       "        [ 0.37618137,  1.07085788],\n",
       "        [ 0.28021673,  0.12232165],\n",
       "        [ 0.37618137, -0.08517065],\n",
       "        [-0.48750035, -0.50015525],\n",
       "        [ 1.43179235,  2.22688641],\n",
       "        [-0.29557108, -0.52979701],\n",
       "        [-1.06328816,  0.47802274],\n",
       "        [ 1.04793381,  0.59658977],\n",
       "        [-0.77539425,  0.35945571],\n",
       "        [-1.15925279, -1.56725851],\n",
       "        [ 0.1842521 , -0.32230471],\n",
       "        [-0.10364181,  2.31581169],\n",
       "        [-1.63907597,  0.00375462],\n",
       "        [-0.10364181,  0.09267989],\n",
       "        [-0.00767717, -0.50015525],\n",
       "        [-0.10364181, -1.03370688],\n",
       "        [-1.83100524, -1.27084094],\n",
       "        [-0.96732352,  0.32981395],\n",
       "        [-0.58346498,  2.43437871],\n",
       "        [ 1.81565089,  1.60440951],\n",
       "        [-0.29557108,  0.86336558],\n",
       "        [-0.87135889,  0.35945571],\n",
       "        [-0.87135889,  0.21124692],\n",
       "        [-0.29557108, -0.08517065],\n",
       "        [-0.58346498,  1.45620073],\n",
       "        [-0.29557108, -0.29266295],\n",
       "        [-1.06328816,  0.59658977],\n",
       "        [-1.15925279,  0.12232165],\n",
       "        [ 1.14389845,  0.59658977],\n",
       "        [ 1.14389845, -1.41904972],\n",
       "        [-0.87135889,  2.3750952 ],\n",
       "        [ 0.76003991, -1.06334864],\n",
       "        [ 0.28021673, -0.14445416],\n",
       "        [ 2.1035448 ,  1.01157437],\n",
       "        [-1.7350406 , -0.55943876],\n",
       "        [-0.58346498,  1.545126  ],\n",
       "        [-0.10364181,  0.35945571],\n",
       "        [-1.7350406 ,  0.41873922],\n",
       "        [-1.25521743, -1.03370688],\n",
       "        [ 0.28021673,  0.12232165],\n",
       "        [-0.39153571,  1.30799194],\n",
       "        [-0.29557108,  0.21124692],\n",
       "        [ 1.71968626, -0.23337944],\n",
       "        [ 2.00758016,  0.59658977],\n",
       "        [ 0.76003991, -1.18191567],\n",
       "        [ 1.23986308,  2.31581169],\n",
       "        [-0.87135889, -0.73728931],\n",
       "        [ 0.56811064,  2.10831938],\n",
       "        [ 1.91161553, -0.61872228],\n",
       "        [ 0.28021673, -0.67800579],\n",
       "        [ 0.08828746,  0.83372382],\n",
       "        [-0.96732352, -0.91513985],\n",
       "        [ 0.28021673,  0.56694801],\n",
       "        [-1.35118206, -1.21155742]]))"
      ]
     },
     "execution_count": 13,
     "metadata": {},
     "output_type": "execute_result"
    }
   ],
   "source": [
    "# Feature Scaling\n",
    "from sklearn.preprocessing import StandardScaler\n",
    "sc_x = StandardScaler()\n",
    "x_train = sc_x.fit_transform(x_train)\n",
    "x_test = sc_x.transform(x_test)\n",
    "x_train, x_test"
   ]
  },
  {
   "cell_type": "markdown",
   "metadata": {
    "id": "VFen8fOaHUs2"
   },
   "source": [
    "# Logistic Regression"
   ]
  },
  {
   "cell_type": "code",
   "execution_count": 14,
   "metadata": {
    "colab": {
     "base_uri": "https://localhost:8080/",
     "height": 100
    },
    "id": "nwStfW_kpmFL",
    "outputId": "973a33be-996f-4b61-b12b-76b209164e6c"
   },
   "outputs": [
    {
     "data": {
      "text/plain": [
       "LogisticRegression(C=1.0, class_weight=None, dual=False, fit_intercept=True,\n",
       "                   intercept_scaling=1, l1_ratio=None, max_iter=100,\n",
       "                   multi_class='auto', n_jobs=None, penalty='l2',\n",
       "                   random_state=0, solver='lbfgs', tol=0.0001, verbose=0,\n",
       "                   warm_start=False)"
      ]
     },
     "execution_count": 14,
     "metadata": {},
     "output_type": "execute_result"
    }
   ],
   "source": [
    "#Fitting Logistic Regresssion to Training Set\n",
    "from sklearn.linear_model import LogisticRegression\n",
    "classifier = LogisticRegression(random_state =0)\n",
    "classifier.fit(x_train,y_train)"
   ]
  },
  {
   "cell_type": "markdown",
   "metadata": {
    "id": "W-BqJeoeHZwu"
   },
   "source": [
    "# Predicting the results"
   ]
  },
  {
   "cell_type": "code",
   "execution_count": 15,
   "metadata": {
    "colab": {
     "base_uri": "https://localhost:8080/",
     "height": 100
    },
    "id": "jasS-KSRpvoV",
    "outputId": "9de056bc-ca23-40a4-c3c1-1b5c1697d7d9"
   },
   "outputs": [
    {
     "data": {
      "text/plain": [
       "array([1, 0, 0, 0, 0, 0, 0, 0, 0, 0, 1, 0, 0, 1, 0, 0, 0, 1, 0, 1, 1, 0,\n",
       "       0, 1, 0, 0, 0, 1, 0, 1, 0, 0, 0, 0, 1, 0, 0, 1, 0, 1, 0, 0, 1, 0,\n",
       "       0, 0, 1, 0, 0, 0, 1, 0, 0, 1, 0, 0, 0, 1, 0, 0, 0, 0, 0, 0, 0, 1,\n",
       "       0, 0, 0, 0, 0, 0, 0, 0, 1, 1, 0, 0, 0, 1, 0, 0, 0, 0, 0, 0, 0, 0,\n",
       "       1, 1, 0, 1, 0, 1, 1, 0, 0, 0, 1, 0], dtype=int64)"
      ]
     },
     "execution_count": 15,
     "metadata": {},
     "output_type": "execute_result"
    }
   ],
   "source": [
    "#Predicting the Test Set Results\n",
    "y_pred = classifier.predict(x_test)\n",
    "y_pred"
   ]
  },
  {
   "cell_type": "markdown",
   "metadata": {
    "id": "dvE2gMRsHJVF"
   },
   "source": [
    "# Cross Validation"
   ]
  },
  {
   "cell_type": "code",
   "execution_count": 16,
   "metadata": {
    "colab": {
     "base_uri": "https://localhost:8080/",
     "height": 50
    },
    "id": "G81Do5wmGPTM",
    "outputId": "3ae57780-c7c4-4fab-ce05-a307718061b5"
   },
   "outputs": [
    {
     "name": "stdout",
     "output_type": "stream",
     "text": [
      "Cross-Validation Accuracy Scores [0.84210526 0.86842105 0.81578947 0.86842105 0.81081081 0.75675676\n",
      " 0.83783784 0.94594595]\n"
     ]
    }
   ],
   "source": [
    "from sklearn.model_selection import cross_val_score\n",
    "\n",
    "scores = cross_val_score(classifier, x_train , y_train, cv=8)\n",
    "print('Cross-Validation Accuracy Scores', scores)"
   ]
  },
  {
   "cell_type": "markdown",
   "metadata": {
    "id": "lxvxDhhTHDsn"
   },
   "source": [
    "# Confusion Matrix"
   ]
  },
  {
   "cell_type": "code",
   "execution_count": 17,
   "metadata": {
    "colab": {
     "base_uri": "https://localhost:8080/",
     "height": 50
    },
    "id": "PhQ-HImDsuL7",
    "outputId": "3c34ec9d-f3b7-49c2-db3c-fe356587c61a"
   },
   "outputs": [
    {
     "data": {
      "text/plain": [
       "array([[61,  3],\n",
       "       [12, 24]], dtype=int64)"
      ]
     },
     "execution_count": 17,
     "metadata": {},
     "output_type": "execute_result"
    }
   ],
   "source": [
    "#Making the Confusion Matrix\n",
    "from sklearn.metrics import confusion_matrix\n",
    "cm = confusion_matrix(y_test,y_pred)\n",
    "cm"
   ]
  },
  {
   "cell_type": "code",
   "execution_count": 18,
   "metadata": {
    "colab": {
     "base_uri": "https://localhost:8080/",
     "height": 281
    },
    "id": "GqKeBRSDjGfg",
    "outputId": "a6b73115-1dac-4b35-814b-32a3080b6a87"
   },
   "outputs": [
    {
     "data": {
      "text/plain": [
       "<matplotlib.axes._subplots.AxesSubplot at 0x22620df6e08>"
      ]
     },
     "execution_count": 18,
     "metadata": {},
     "output_type": "execute_result"
    },
    {
     "data": {
      "image/png": "[encoded data removed]",
      "text/plain": [
       "<Figure size 432x288 with 2 Axes>"
      ]
     },
     "metadata": {
      "needs_background": "light"
     },
     "output_type": "display_data"
    }
   ],
   "source": [
    "import seaborn as sns\n",
    "sns.heatmap(cm, annot=True, cmap='Blues')"
   ]
  },
  {
   "cell_type": "code",
   "execution_count": 19,
   "metadata": {
    "colab": {
     "base_uri": "https://localhost:8080/",
     "height": 281
    },
    "id": "VVvdlSFekc3r",
    "outputId": "e6b5aae0-f151-465e-9f30-799d5cef1688"
   },
   "outputs": [
    {
     "data": {
      "text/plain": [
       "<matplotlib.axes._subplots.AxesSubplot at 0x22621004ec8>"
      ]
     },
     "execution_count": 19,
     "metadata": {},
     "output_type": "execute_result"
    },
    {
     "data": {
      "image/png": "[encoded data removed]",
      "text/plain": [
       "<Figure size 432x288 with 2 Axes>"
      ]
     },
     "metadata": {
      "needs_background": "light"
     },
     "output_type": "display_data"
    }
   ],
   "source": [
    "sns.heatmap(cm/np.sum(cm), annot=True, \n",
    "            fmt='.2%', cmap='Blues')"
   ]
  },
  {
   "cell_type": "markdown",
   "metadata": {
    "id": "894pdbVHHexH"
   },
   "source": [
    "# Analysing result parameters"
   ]
  },
  {
   "cell_type": "code",
   "execution_count": 20,
   "metadata": {
    "colab": {
     "base_uri": "https://localhost:8080/",
     "height": 347
    },
    "id": "luwxTPsQp08j",
    "outputId": "6934b9e2-95f8-4c05-c702-87e02103c53e"
   },
   "outputs": [
    {
     "name": "stderr",
     "output_type": "stream",
     "text": [
      "'c' argument looks like a single numeric RGB or RGBA sequence, which should be avoided as value-mapping will have precedence in case its length matches with 'x' & 'y'.  Please use a 2-D array with a single row if you really want to specify the same RGB or RGBA value for all points.\n",
      "'c' argument looks like a single numeric RGB or RGBA sequence, which should be avoided as value-mapping will have precedence in case its length matches with 'x' & 'y'.  Please use a 2-D array with a single row if you really want to specify the same RGB or RGBA value for all points.\n"
     ]
    },
    {
     "data": {
      "image/png": "[encoded data removed]",
      "text/plain": [
       "<Figure size 432x288 with 1 Axes>"
      ]
     },
     "metadata": {
      "needs_background": "light"
     },
     "output_type": "display_data"
    }
   ],
   "source": [
    "#Visualizing the Training Set Results\n",
    "from matplotlib.colors import ListedColormap\n",
    "x_set , y_set = x_train ,y_train\n",
    "x1, x2 = np.meshgrid(np.arange(start = x_set[:,0].min()-1,stop =x_set[:,0].max()+1,step=0.01),\n",
    "                    np.arange(start = x_set[:,1].min()-1,stop =x_set[:,1].max()+1,step=0.01))\n",
    "plt.contour(x1,x2,classifier.predict(np.array([x1.ravel(),x2.ravel()]).T).reshape(x1.shape),\n",
    "            alpha= 0.75 ,cmap = ListedColormap(('red','green')))\n",
    "plt.xlim(x1.min() ,x1.max())\n",
    "plt.ylim(x2.min() ,x2.max())\n",
    "for i,j in enumerate(np.unique(y_set)):\n",
    "    plt.scatter(x_set[y_set == j ,0], x_set[y_set == j,1],\n",
    "                c= ListedColormap(('red' , 'green'))(i) , label = j)\n",
    "plt.title('Logistic Regression(Training Set)')\n",
    "plt.xlabel('Age')\n",
    "plt.ylabel('Estimated Salary')\n",
    "plt.legend()\n",
    "plt.show()"
   ]
  },
  {
   "cell_type": "code",
   "execution_count": 21,
   "metadata": {
    "colab": {
     "base_uri": "https://localhost:8080/",
     "height": 347
    },
    "id": "eXP1NgG0p47L",
    "outputId": "b3df084f-d232-4fd7-ba1a-edb95137218a"
   },
   "outputs": [
    {
     "name": "stderr",
     "output_type": "stream",
     "text": [
      "'c' argument looks like a single numeric RGB or RGBA sequence, which should be avoided as value-mapping will have precedence in case its length matches with 'x' & 'y'.  Please use a 2-D array with a single row if you really want to specify the same RGB or RGBA value for all points.\n",
      "'c' argument looks like a single numeric RGB or RGBA sequence, which should be avoided as value-mapping will have precedence in case its length matches with 'x' & 'y'.  Please use a 2-D array with a single row if you really want to specify the same RGB or RGBA value for all points.\n"
     ]
    },
    {
     "data": {
      "image/png": "[encoded data removed]",
      "text/plain": [
       "<Figure size 432x288 with 1 Axes>"
      ]
     },
     "metadata": {
      "needs_background": "light"
     },
     "output_type": "display_data"
    }
   ],
   "source": [
    "#Visualizing the Test Set Results\n",
    "from matplotlib.colors import ListedColormap\n",
    "x_set , y_set = x_test ,y_test\n",
    "x1, x2 = np.meshgrid(np.arange(start = x_set[:,0].min()-1,stop =x_set[:,0].max()+1,step=0.01),\n",
    "                    np.arange(start = x_set[:,1].min()-1,stop =x_set[:,1].max()+1,step=0.01))\n",
    "plt.contour(x1,x2,classifier.predict(np.array([x1.ravel(),x2.ravel()]).T).reshape(x1.shape),\n",
    "            alpha= 0.75 ,cmap = ListedColormap(('red','green')))\n",
    "plt.xlim(x1.min() ,x1.max())\n",
    "plt.ylim(x2.min() ,x2.max())\n",
    "for i,j in enumerate(np.unique(y_set)):\n",
    "    plt.scatter(x_set[y_set == j ,0], x_set[y_set == j,1],\n",
    "                c= ListedColormap(('red' , 'green'))(i) , label = j)\n",
    "plt.title('Logistic Regression(Test Set)')\n",
    "plt.xlabel('Age')\n",
    "plt.ylabel('Estimated Salary')\n",
    "plt.legend()\n",
    "plt.show()"
   ]
  },
  {
   "cell_type": "code",
   "execution_count": 22,
   "metadata": {
    "colab": {
     "base_uri": "https://localhost:8080/",
     "height": 33
    },
    "id": "hedFf8jpjTRq",
    "outputId": "69ccbe64-b892-4833-ecae-6a6c6d48d24f"
   },
   "outputs": [
    {
     "data": {
      "text/plain": [
       "0.85"
      ]
     },
     "execution_count": 22,
     "metadata": {},
     "output_type": "execute_result"
    }
   ],
   "source": [
    "metrics.accuracy_score(y_test, y_pred)"
   ]
  },
  {
   "cell_type": "markdown",
   "metadata": {
    "id": "YaEEPmHyy4FH"
   },
   "source": [
    "# Third example with Iris Dataset"
   ]
  },
  {
   "cell_type": "code",
   "execution_count": 23,
   "metadata": {
    "id": "GVpJcgF_updu"
   },
   "outputs": [],
   "source": [
    "from sklearn import datasets\n",
    "import matplotlib.pyplot as plt"
   ]
  },
  {
   "cell_type": "code",
   "execution_count": 24,
   "metadata": {
    "id": "L7zcw4XrwlAz",
    "scrolled": true
   },
   "outputs": [],
   "source": [
    "#import data\n",
    "data = datasets.load_iris()"
   ]
  },
  {
   "cell_type": "code",
   "execution_count": 25,
   "metadata": {
    "colab": {
     "base_uri": "https://localhost:8080/",
     "height": 1000
    },
    "id": "Wy0_6EnZwlA5",
    "outputId": "679bc44f-a608-4d96-b8af-8281cbbbeb0f",
    "scrolled": true
   },
   "outputs": [
    {
     "data": {
      "text/plain": [
       "array([[5.1, 3.5, 1.4, 0.2],\n",
       "       [4.9, 3. , 1.4, 0.2],\n",
       "       [4.7, 3.2, 1.3, 0.2],\n",
       "       [4.6, 3.1, 1.5, 0.2],\n",
       "       [5. , 3.6, 1.4, 0.2],\n",
       "       [5.4, 3.9, 1.7, 0.4],\n",
       "       [4.6, 3.4, 1.4, 0.3],\n",
       "       [5. , 3.4, 1.5, 0.2],\n",
       "       [4.4, 2.9, 1.4, 0.2],\n",
       "       [4.9, 3.1, 1.5, 0.1],\n",
       "       [5.4, 3.7, 1.5, 0.2],\n",
       "       [4.8, 3.4, 1.6, 0.2],\n",
       "       [4.8, 3. , 1.4, 0.1],\n",
       "       [4.3, 3. , 1.1, 0.1],\n",
       "       [5.8, 4. , 1.2, 0.2],\n",
       "       [5.7, 4.4, 1.5, 0.4],\n",
       "       [5.4, 3.9, 1.3, 0.4],\n",
       "       [5.1, 3.5, 1.4, 0.3],\n",
       "       [5.7, 3.8, 1.7, 0.3],\n",
       "       [5.1, 3.8, 1.5, 0.3],\n",
       "       [5.4, 3.4, 1.7, 0.2],\n",
       "       [5.1, 3.7, 1.5, 0.4],\n",
       "       [4.6, 3.6, 1. , 0.2],\n",
       "       [5.1, 3.3, 1.7, 0.5],\n",
       "       [4.8, 3.4, 1.9, 0.2],\n",
       "       [5. , 3. , 1.6, 0.2],\n",
       "       [5. , 3.4, 1.6, 0.4],\n",
       "       [5.2, 3.5, 1.5, 0.2],\n",
       "       [5.2, 3.4, 1.4, 0.2],\n",
       "       [4.7, 3.2, 1.6, 0.2],\n",
       "       [4.8, 3.1, 1.6, 0.2],\n",
       "       [5.4, 3.4, 1.5, 0.4],\n",
       "       [5.2, 4.1, 1.5, 0.1],\n",
       "       [5.5, 4.2, 1.4, 0.2],\n",
       "       [4.9, 3.1, 1.5, 0.2],\n",
       "       [5. , 3.2, 1.2, 0.2],\n",
       "       [5.5, 3.5, 1.3, 0.2],\n",
       "       [4.9, 3.6, 1.4, 0.1],\n",
       "       [4.4, 3. , 1.3, 0.2],\n",
       "       [5.1, 3.4, 1.5, 0.2],\n",
       "       [5. , 3.5, 1.3, 0.3],\n",
       "       [4.5, 2.3, 1.3, 0.3],\n",
       "       [4.4, 3.2, 1.3, 0.2],\n",
       "       [5. , 3.5, 1.6, 0.6],\n",
       "       [5.1, 3.8, 1.9, 0.4],\n",
       "       [4.8, 3. , 1.4, 0.3],\n",
       "       [5.1, 3.8, 1.6, 0.2],\n",
       "       [4.6, 3.2, 1.4, 0.2],\n",
       "       [5.3, 3.7, 1.5, 0.2],\n",
       "       [5. , 3.3, 1.4, 0.2],\n",
       "       [7. , 3.2, 4.7, 1.4],\n",
       "       [6.4, 3.2, 4.5, 1.5],\n",
       "       [6.9, 3.1, 4.9, 1.5],\n",
       "       [5.5, 2.3, 4. , 1.3],\n",
       "       [6.5, 2.8, 4.6, 1.5],\n",
       "       [5.7, 2.8, 4.5, 1.3],\n",
       "       [6.3, 3.3, 4.7, 1.6],\n",
       "       [4.9, 2.4, 3.3, 1. ],\n",
       "       [6.6, 2.9, 4.6, 1.3],\n",
       "       [5.2, 2.7, 3.9, 1.4],\n",
       "       [5. , 2. , 3.5, 1. ],\n",
       "       [5.9, 3. , 4.2, 1.5],\n",
       "       [6. , 2.2, 4. , 1. ],\n",
       "       [6.1, 2.9, 4.7, 1.4],\n",
       "       [5.6, 2.9, 3.6, 1.3],\n",
       "       [6.7, 3.1, 4.4, 1.4],\n",
       "       [5.6, 3. , 4.5, 1.5],\n",
       "       [5.8, 2.7, 4.1, 1. ],\n",
       "       [6.2, 2.2, 4.5, 1.5],\n",
       "       [5.6, 2.5, 3.9, 1.1],\n",
       "       [5.9, 3.2, 4.8, 1.8],\n",
       "       [6.1, 2.8, 4. , 1.3],\n",
       "       [6.3, 2.5, 4.9, 1.5],\n",
       "       [6.1, 2.8, 4.7, 1.2],\n",
       "       [6.4, 2.9, 4.3, 1.3],\n",
       "       [6.6, 3. , 4.4, 1.4],\n",
       "       [6.8, 2.8, 4.8, 1.4],\n",
       "       [6.7, 3. , 5. , 1.7],\n",
       "       [6. , 2.9, 4.5, 1.5],\n",
       "       [5.7, 2.6, 3.5, 1. ],\n",
       "       [5.5, 2.4, 3.8, 1.1],\n",
       "       [5.5, 2.4, 3.7, 1. ],\n",
       "       [5.8, 2.7, 3.9, 1.2],\n",
       "       [6. , 2.7, 5.1, 1.6],\n",
       "       [5.4, 3. , 4.5, 1.5],\n",
       "       [6. , 3.4, 4.5, 1.6],\n",
       "       [6.7, 3.1, 4.7, 1.5],\n",
       "       [6.3, 2.3, 4.4, 1.3],\n",
       "       [5.6, 3. , 4.1, 1.3],\n",
       "       [5.5, 2.5, 4. , 1.3],\n",
       "       [5.5, 2.6, 4.4, 1.2],\n",
       "       [6.1, 3. , 4.6, 1.4],\n",
       "       [5.8, 2.6, 4. , 1.2],\n",
       "       [5. , 2.3, 3.3, 1. ],\n",
       "       [5.6, 2.7, 4.2, 1.3],\n",
       "       [5.7, 3. , 4.2, 1.2],\n",
       "       [5.7, 2.9, 4.2, 1.3],\n",
       "       [6.2, 2.9, 4.3, 1.3],\n",
       "       [5.1, 2.5, 3. , 1.1],\n",
       "       [5.7, 2.8, 4.1, 1.3],\n",
       "       [6.3, 3.3, 6. , 2.5],\n",
       "       [5.8, 2.7, 5.1, 1.9],\n",
       "       [7.1, 3. , 5.9, 2.1],\n",
       "       [6.3, 2.9, 5.6, 1.8],\n",
       "       [6.5, 3. , 5.8, 2.2],\n",
       "       [7.6, 3. , 6.6, 2.1],\n",
       "       [4.9, 2.5, 4.5, 1.7],\n",
       "       [7.3, 2.9, 6.3, 1.8],\n",
       "       [6.7, 2.5, 5.8, 1.8],\n",
       "       [7.2, 3.6, 6.1, 2.5],\n",
       "       [6.5, 3.2, 5.1, 2. ],\n",
       "       [6.4, 2.7, 5.3, 1.9],\n",
       "       [6.8, 3. , 5.5, 2.1],\n",
       "       [5.7, 2.5, 5. , 2. ],\n",
       "       [5.8, 2.8, 5.1, 2.4],\n",
       "       [6.4, 3.2, 5.3, 2.3],\n",
       "       [6.5, 3. , 5.5, 1.8],\n",
       "       [7.7, 3.8, 6.7, 2.2],\n",
       "       [7.7, 2.6, 6.9, 2.3],\n",
       "       [6. , 2.2, 5. , 1.5],\n",
       "       [6.9, 3.2, 5.7, 2.3],\n",
       "       [5.6, 2.8, 4.9, 2. ],\n",
       "       [7.7, 2.8, 6.7, 2. ],\n",
       "       [6.3, 2.7, 4.9, 1.8],\n",
       "       [6.7, 3.3, 5.7, 2.1],\n",
       "       [7.2, 3.2, 6. , 1.8],\n",
       "       [6.2, 2.8, 4.8, 1.8],\n",
       "       [6.1, 3. , 4.9, 1.8],\n",
       "       [6.4, 2.8, 5.6, 2.1],\n",
       "       [7.2, 3. , 5.8, 1.6],\n",
       "       [7.4, 2.8, 6.1, 1.9],\n",
       "       [7.9, 3.8, 6.4, 2. ],\n",
       "       [6.4, 2.8, 5.6, 2.2],\n",
       "       [6.3, 2.8, 5.1, 1.5],\n",
       "       [6.1, 2.6, 5.6, 1.4],\n",
       "       [7.7, 3. , 6.1, 2.3],\n",
       "       [6.3, 3.4, 5.6, 2.4],\n",
       "       [6.4, 3.1, 5.5, 1.8],\n",
       "       [6. , 3. , 4.8, 1.8],\n",
       "       [6.9, 3.1, 5.4, 2.1],\n",
       "       [6.7, 3.1, 5.6, 2.4],\n",
       "       [6.9, 3.1, 5.1, 2.3],\n",
       "       [5.8, 2.7, 5.1, 1.9],\n",
       "       [6.8, 3.2, 5.9, 2.3],\n",
       "       [6.7, 3.3, 5.7, 2.5],\n",
       "       [6.7, 3. , 5.2, 2.3],\n",
       "       [6.3, 2.5, 5. , 1.9],\n",
       "       [6.5, 3. , 5.2, 2. ],\n",
       "       [6.2, 3.4, 5.4, 2.3],\n",
       "       [5.9, 3. , 5.1, 1.8]])"
      ]
     },
     "execution_count": 25,
     "metadata": {},
     "output_type": "execute_result"
    }
   ],
   "source": [
    "# here as we have imported the data through sckit's package , we will get the data in form of arrays,\n",
    "# so here our labes is stored in \n",
    "data.data"
   ]
  },
  {
   "cell_type": "code",
   "execution_count": 26,
   "metadata": {
    "colab": {
     "base_uri": "https://localhost:8080/",
     "height": 133
    },
    "id": "7vRtTUEXwlBC",
    "outputId": "add0c1a6-17f2-489e-f006-b3ead1c288de"
   },
   "outputs": [
    {
     "data": {
      "text/plain": [
       "array([0, 0, 0, 0, 0, 0, 0, 0, 0, 0, 0, 0, 0, 0, 0, 0, 0, 0, 0, 0, 0, 0,\n",
       "       0, 0, 0, 0, 0, 0, 0, 0, 0, 0, 0, 0, 0, 0, 0, 0, 0, 0, 0, 0, 0, 0,\n",
       "       0, 0, 0, 0, 0, 0, 1, 1, 1, 1, 1, 1, 1, 1, 1, 1, 1, 1, 1, 1, 1, 1,\n",
       "       1, 1, 1, 1, 1, 1, 1, 1, 1, 1, 1, 1, 1, 1, 1, 1, 1, 1, 1, 1, 1, 1,\n",
       "       1, 1, 1, 1, 1, 1, 1, 1, 1, 1, 1, 1, 2, 2, 2, 2, 2, 2, 2, 2, 2, 2,\n",
       "       2, 2, 2, 2, 2, 2, 2, 2, 2, 2, 2, 2, 2, 2, 2, 2, 2, 2, 2, 2, 2, 2,\n",
       "       2, 2, 2, 2, 2, 2, 2, 2, 2, 2, 2, 2, 2, 2, 2, 2, 2, 2])"
      ]
     },
     "execution_count": 26,
     "metadata": {},
     "output_type": "execute_result"
    }
   ],
   "source": [
    "# and labels\n",
    "data.target"
   ]
  },
  {
   "cell_type": "code",
   "execution_count": 27,
   "metadata": {
    "id": "YbeYH-KnwlBJ"
   },
   "outputs": [],
   "source": [
    "# First let's divide the dataset into data and target \n",
    "\n",
    "X = data.data[:, :2]   # X is the features in our dataset\n",
    "y = (data.target != 0) * 1  # y is the Labels in our dataset"
   ]
  },
  {
   "cell_type": "code",
   "execution_count": 28,
   "metadata": {
    "colab": {
     "base_uri": "https://localhost:8080/",
     "height": 375
    },
    "id": "UlJBi8ZtwlBd",
    "outputId": "651e09a3-2a55-411e-9581-6f02460f21b4",
    "scrolled": true
   },
   "outputs": [
    {
     "data": {
      "image/png": "[encoded data removed]",
      "text/plain": [
       "<Figure size 720x432 with 1 Axes>"
      ]
     },
     "metadata": {
      "needs_background": "light"
     },
     "output_type": "display_data"
    }
   ],
   "source": [
    "plt.figure(figsize=(10, 6))\n",
    "plt.scatter(X[y == 0][:, 0], X[y == 0][:, 1], color='b', label='0') \n",
    "plt.scatter(X[y == 1][:, 0], X[y == 1][:, 1], color='r', label='1')\n",
    "plt.legend();\n"
   ]
  },
  {
   "cell_type": "code",
   "execution_count": 29,
   "metadata": {
    "id": "Jr_E8QVQwlCa"
   },
   "outputs": [],
   "source": [
    "# import dependencies\n",
    "from sklearn.linear_model import LogisticRegression"
   ]
  },
  {
   "cell_type": "code",
   "execution_count": 30,
   "metadata": {
    "id": "SbVpoGI9wlCe"
   },
   "outputs": [],
   "source": [
    "# load model\n",
    "model = LogisticRegression()"
   ]
  },
  {
   "cell_type": "code",
   "execution_count": 31,
   "metadata": {
    "colab": {
     "base_uri": "https://localhost:8080/",
     "height": 100
    },
    "id": "CpaBljWhwlCj",
    "outputId": "6b00c9d7-f446-41ad-e3f6-6fd3f1aa16a2"
   },
   "outputs": [
    {
     "data": {
      "text/plain": [
       "LogisticRegression(C=1.0, class_weight=None, dual=False, fit_intercept=True,\n",
       "                   intercept_scaling=1, l1_ratio=None, max_iter=100,\n",
       "                   multi_class='auto', n_jobs=None, penalty='l2',\n",
       "                   random_state=None, solver='lbfgs', tol=0.0001, verbose=0,\n",
       "                   warm_start=False)"
      ]
     },
     "execution_count": 31,
     "metadata": {},
     "output_type": "execute_result"
    }
   ],
   "source": [
    "# fit model\n",
    "model.fit(X, y)"
   ]
  },
  {
   "cell_type": "code",
   "execution_count": 32,
   "metadata": {
    "colab": {
     "base_uri": "https://localhost:8080/",
     "height": 133
    },
    "id": "IGBv3AnGwlCr",
    "outputId": "8c37c712-e2f1-465d-8002-6a0f038c0786"
   },
   "outputs": [
    {
     "data": {
      "text/plain": [
       "array([0, 0, 0, 0, 0, 0, 0, 0, 0, 0, 0, 0, 0, 0, 0, 0, 0, 0, 0, 0, 0, 0,\n",
       "       0, 0, 0, 0, 0, 0, 0, 0, 0, 0, 0, 0, 0, 0, 0, 0, 0, 0, 0, 0, 0, 0,\n",
       "       0, 0, 0, 0, 0, 0, 1, 1, 1, 1, 1, 1, 1, 1, 1, 1, 1, 1, 1, 1, 1, 1,\n",
       "       1, 1, 1, 1, 1, 1, 1, 1, 1, 1, 1, 1, 1, 1, 1, 1, 1, 1, 1, 1, 1, 1,\n",
       "       1, 1, 1, 1, 1, 1, 1, 1, 1, 1, 1, 1, 1, 1, 1, 1, 1, 1, 1, 1, 1, 1,\n",
       "       1, 1, 1, 1, 1, 1, 1, 1, 1, 1, 1, 1, 1, 1, 1, 1, 1, 1, 1, 1, 1, 1,\n",
       "       1, 1, 1, 1, 1, 1, 1, 1, 1, 1, 1, 1, 1, 1, 1, 1, 1, 1])"
      ]
     },
     "execution_count": 32,
     "metadata": {},
     "output_type": "execute_result"
    }
   ],
   "source": [
    "# Predict Model\n",
    "preds = model.predict(X)\n",
    "preds"
   ]
  },
  {
   "cell_type": "code",
   "execution_count": 33,
   "metadata": {
    "colab": {
     "base_uri": "https://localhost:8080/",
     "height": 33
    },
    "id": "Fhj-AGWmjYYO",
    "outputId": "be3bd119-6e4f-4637-a087-10783579f98e"
   },
   "outputs": [
    {
     "data": {
      "text/plain": [
       "1.0"
      ]
     },
     "execution_count": 33,
     "metadata": {},
     "output_type": "execute_result"
    }
   ],
   "source": [
    "metrics.accuracy_score(y, preds)"
   ]
  },
  {
   "cell_type": "markdown",
   "metadata": {
    "id": "MfkH0Qmu3m47"
   },
   "source": [
    "#Fourth Example"
   ]
  },
  {
   "cell_type": "code",
   "execution_count": 34,
   "metadata": {
    "colab": {
     "base_uri": "https://localhost:8080/",
     "height": 33
    },
    "id": "-3vMd20uyeLY",
    "outputId": "4d020aa0-ab83-46f4-a98f-d416e2491988"
   },
   "outputs": [
    {
     "data": {
      "text/plain": [
       "(118, 3)"
      ]
     },
     "execution_count": 34,
     "metadata": {},
     "output_type": "execute_result"
    }
   ],
   "source": [
    "#Logistic Regression\n",
    "\n",
    "# Importing the libraries\n",
    "import numpy as np\n",
    "import matplotlib.pyplot as plt\n",
    "import pandas as pd\n",
    "#Importing the data\n",
    "df =pd.read_csv('Chip_test.csv').values\n",
    "df.shape"
   ]
  },
  {
   "cell_type": "code",
   "execution_count": 35,
   "metadata": {
    "id": "knHn7zeG3cVE",
    "scrolled": true
   },
   "outputs": [],
   "source": [
    "x= df[:, 0:2 ]\n",
    "y= df[:, -1] "
   ]
  },
  {
   "cell_type": "code",
   "execution_count": 36,
   "metadata": {
    "id": "bpyVEYHA3cVJ"
   },
   "outputs": [],
   "source": [
    "# Splitting the dataset into the Training set and Test set\n",
    "from sklearn.model_selection import train_test_split\n",
    "x_train, x_test, y_train, y_test = train_test_split(x, y, test_size = 0.25) "
   ]
  },
  {
   "cell_type": "code",
   "execution_count": 37,
   "metadata": {
    "colab": {
     "base_uri": "https://localhost:8080/",
     "height": 100
    },
    "id": "Fxg_KmjU3cVQ",
    "outputId": "c2541a75-8875-4019-c66b-632ad8442af6"
   },
   "outputs": [
    {
     "data": {
      "text/plain": [
       "LogisticRegression(C=1.0, class_weight=None, dual=False, fit_intercept=True,\n",
       "                   intercept_scaling=1, l1_ratio=None, max_iter=100,\n",
       "                   multi_class='auto', n_jobs=None, penalty='l2',\n",
       "                   random_state=None, solver='lbfgs', tol=0.0001, verbose=0,\n",
       "                   warm_start=False)"
      ]
     },
     "execution_count": 37,
     "metadata": {},
     "output_type": "execute_result"
    }
   ],
   "source": [
    "#Fitting Logistic Regresssion to Training Set\n",
    "from sklearn.linear_model import LogisticRegression\n",
    "model = LogisticRegression()\n",
    "model.fit(x_train,y_train)"
   ]
  },
  {
   "cell_type": "code",
   "execution_count": 38,
   "metadata": {
    "colab": {
     "base_uri": "https://localhost:8080/",
     "height": 50
    },
    "id": "Ia8b5qLx3cVe",
    "outputId": "3e924a2b-209d-4a23-82f6-cb42d3e93696"
   },
   "outputs": [
    {
     "data": {
      "text/plain": [
       "array([0., 0., 0., 0., 0., 0., 0., 1., 0., 1., 0., 0., 1., 0., 0., 0., 0.,\n",
       "       1., 0., 0., 0., 0., 0., 0., 0., 1., 0., 0., 0., 1.])"
      ]
     },
     "execution_count": 38,
     "metadata": {},
     "output_type": "execute_result"
    }
   ],
   "source": [
    "#Predicting the Test Set Results\n",
    "y_pred = model.predict(x_test)\n",
    "y_pred"
   ]
  },
  {
   "cell_type": "code",
   "execution_count": 39,
   "metadata": {
    "colab": {
     "base_uri": "https://localhost:8080/",
     "height": 50
    },
    "id": "OfrXV0w03cVk",
    "outputId": "f18983f8-9b86-42b8-f7c8-21e04a6d0992"
   },
   "outputs": [
    {
     "data": {
      "text/plain": [
       "array([[ 5,  6],\n",
       "       [19,  0]], dtype=int64)"
      ]
     },
     "execution_count": 39,
     "metadata": {},
     "output_type": "execute_result"
    }
   ],
   "source": [
    "from sklearn.metrics import confusion_matrix\n",
    "cm = confusion_matrix(y_test,y_pred)\n",
    "cm"
   ]
  },
  {
   "cell_type": "code",
   "execution_count": 40,
   "metadata": {
    "colab": {
     "base_uri": "https://localhost:8080/",
     "height": 285
    },
    "id": "IAvhD2Ut5TAr",
    "outputId": "55eced89-e20c-4f76-e152-167fa92c869e"
   },
   "outputs": [
    {
     "data": {
      "text/plain": [
       "<matplotlib.axes._subplots.AxesSubplot at 0x2262130d908>"
      ]
     },
     "execution_count": 40,
     "metadata": {},
     "output_type": "execute_result"
    },
    {
     "data": {
      "image/png": "[encoded data removed]",
      "text/plain": [
       "<Figure size 432x288 with 2 Axes>"
      ]
     },
     "metadata": {
      "needs_background": "light"
     },
     "output_type": "display_data"
    }
   ],
   "source": [
    "import seaborn as sns\n",
    "sns.heatmap(cm, annot=True, cmap='Blues')"
   ]
  },
  {
   "cell_type": "code",
   "execution_count": 41,
   "metadata": {
    "colab": {
     "base_uri": "https://localhost:8080/",
     "height": 33
    },
    "id": "fvWZv0HzkLJY",
    "outputId": "9879dd49-dfaa-4e51-a207-8efebb26827e"
   },
   "outputs": [
    {
     "data": {
      "text/plain": [
       "0.16666666666666666"
      ]
     },
     "execution_count": 41,
     "metadata": {},
     "output_type": "execute_result"
    }
   ],
   "source": [
    "metrics.accuracy_score(y_test, y_pred)"
   ]
  },
  {
   "cell_type": "markdown",
   "metadata": {
    "id": "4EwcQlHu5dd1"
   },
   "source": [
    "# fifth example"
   ]
  },
  {
   "cell_type": "code",
   "execution_count": 42,
   "metadata": {
    "colab": {
     "base_uri": "https://localhost:8080/",
     "height": 33
    },
    "id": "LkYDtOO03cZ9",
    "outputId": "ced447b4-fef9-416a-baf6-d1f1da6e9198"
   },
   "outputs": [
    {
     "data": {
      "text/plain": [
       "(100, 3)"
      ]
     },
     "execution_count": 42,
     "metadata": {},
     "output_type": "execute_result"
    }
   ],
   "source": [
    "#Logistic Regression\n",
    "\n",
    "# Importing the libraries\n",
    "import numpy as np\n",
    "import matplotlib.pyplot as plt\n",
    "import pandas as pd\n",
    "\n",
    "# Importing the dataset\n",
    "df = pd.read_csv('examdata.csv').values\n",
    "df.shape"
   ]
  },
  {
   "cell_type": "code",
   "execution_count": 43,
   "metadata": {
    "id": "APjsRaBy3caG"
   },
   "outputs": [],
   "source": [
    "x = df[:, 0:2]\n",
    "y = df[:, 2]\n",
    "# Splitting the dataset into the Training set and Test set\n",
    "from sklearn.model_selection import train_test_split\n",
    "x_train, x_test, y_train, y_test = train_test_split(x, y, test_size = 0.20)"
   ]
  },
  {
   "cell_type": "code",
   "execution_count": 44,
   "metadata": {
    "id": "8LFmubAw3caN"
   },
   "outputs": [],
   "source": [
    "# Feature Scaling\n",
    "from sklearn.preprocessing import StandardScaler\n",
    "sc_x = StandardScaler()\n",
    "x_train = sc_x.fit_transform(x_train)\n",
    "x_test = sc_x.transform(x_test)\n",
    "\n",
    "#Fitting Logistic Regresssion to Training Set\n",
    "from sklearn.linear_model import LogisticRegression\n",
    "classifier = LogisticRegression(random_state =0)\n",
    "classifier.fit(x_train,y_train)\n",
    "\n",
    "#Predicting the Test Set Results\n",
    "y_pred = classifier.predict(x_test)"
   ]
  },
  {
   "cell_type": "code",
   "execution_count": 45,
   "metadata": {
    "colab": {
     "base_uri": "https://localhost:8080/",
     "height": 50
    },
    "id": "rOjXpS8_3caT",
    "outputId": "a3190454-beff-4c59-ba12-c8c123f162cd"
   },
   "outputs": [
    {
     "data": {
      "text/plain": [
       "array([[ 7,  1],\n",
       "       [ 1, 11]], dtype=int64)"
      ]
     },
     "execution_count": 45,
     "metadata": {},
     "output_type": "execute_result"
    }
   ],
   "source": [
    "#Making the Confusion Matrix\n",
    "from sklearn.metrics import confusion_matrix\n",
    "cm = confusion_matrix(y_test,y_pred)\n",
    "cm"
   ]
  },
  {
   "cell_type": "code",
   "execution_count": 46,
   "metadata": {
    "colab": {
     "base_uri": "https://localhost:8080/",
     "height": 334
    },
    "id": "Jfn2nDn43caZ",
    "outputId": "82c7d48c-eff2-47cd-e7a3-cc8cbafd9778"
   },
   "outputs": [
    {
     "name": "stderr",
     "output_type": "stream",
     "text": [
      "'c' argument looks like a single numeric RGB or RGBA sequence, which should be avoided as value-mapping will have precedence in case its length matches with 'x' & 'y'.  Please use a 2-D array with a single row if you really want to specify the same RGB or RGBA value for all points.\n",
      "'c' argument looks like a single numeric RGB or RGBA sequence, which should be avoided as value-mapping will have precedence in case its length matches with 'x' & 'y'.  Please use a 2-D array with a single row if you really want to specify the same RGB or RGBA value for all points.\n"
     ]
    },
    {
     "data": {
      "image/png": "[encoded data removed]",
      "text/plain": [
       "<Figure size 432x288 with 1 Axes>"
      ]
     },
     "metadata": {
      "needs_background": "light"
     },
     "output_type": "display_data"
    }
   ],
   "source": [
    "#Visualizing the Training Set Results\n",
    "from matplotlib.colors import ListedColormap\n",
    "x_set , y_set = x_train ,y_train\n",
    "x1, x2 = np.meshgrid(np.arange(start = x_set[:,0].min()-1,stop =x_set[:,0].max()+1,step=0.01),\n",
    "                    np.arange(start = x_set[:,1].min()-1,stop =x_set[:,1].max()+1,step=0.01))\n",
    "plt.contour(x1,x2,classifier.predict(np.array([x1.ravel(),x2.ravel()]).T).reshape(x1.shape),\n",
    "            alpha= 0.75 ,cmap = ListedColormap(('red','green')))\n",
    "plt.xlim(x1.min() ,x1.max())\n",
    "plt.ylim(x2.min() ,x2.max())\n",
    "for i,j in enumerate(np.unique(y_set)):\n",
    "    plt.scatter(x_set[y_set == j ,0], x_set[y_set == j,1],\n",
    "                c= ListedColormap(('red' , 'green'))(i) , label = j)\n",
    "plt.title('Logistic Regression(Training Set)')\n",
    "plt.legend()\n",
    "plt.show()\n",
    "      "
   ]
  },
  {
   "cell_type": "code",
   "execution_count": 47,
   "metadata": {
    "colab": {
     "base_uri": "https://localhost:8080/",
     "height": 351
    },
    "id": "rIubRv1N3cag",
    "outputId": "9ea83a3c-964f-4af6-886e-e7bd2fc637a7"
   },
   "outputs": [
    {
     "name": "stderr",
     "output_type": "stream",
     "text": [
      "'c' argument looks like a single numeric RGB or RGBA sequence, which should be avoided as value-mapping will have precedence in case its length matches with 'x' & 'y'.  Please use a 2-D array with a single row if you really want to specify the same RGB or RGBA value for all points.\n",
      "'c' argument looks like a single numeric RGB or RGBA sequence, which should be avoided as value-mapping will have precedence in case its length matches with 'x' & 'y'.  Please use a 2-D array with a single row if you really want to specify the same RGB or RGBA value for all points.\n"
     ]
    },
    {
     "data": {
      "text/plain": [
       "<matplotlib.legend.Legend at 0x226215d52c8>"
      ]
     },
     "execution_count": 47,
     "metadata": {},
     "output_type": "execute_result"
    },
    {
     "data": {
      "image/png": "[encoded data removed]",
      "text/plain": [
       "<Figure size 432x288 with 1 Axes>"
      ]
     },
     "metadata": {
      "needs_background": "light"
     },
     "output_type": "display_data"
    }
   ],
   "source": [
    "#Visualizing the Test Set Results\n",
    "from matplotlib.colors import ListedColormap\n",
    "x_set , y_set = x_test ,y_test\n",
    "x1, x2 = np.meshgrid(np.arange(start = x_set[:,0].min()-1,stop =x_set[:,0].max()+1,step=0.01),\n",
    "                    np.arange(start = x_set[:,1].min()-1,stop =x_set[:,1].max()+1,step=0.01))\n",
    "plt.contour(x1,x2,classifier.predict(np.array([x1.ravel(),x2.ravel()]).T).reshape(x1.shape),\n",
    "            alpha= 0.75 ,cmap = ListedColormap(('red','green')))\n",
    "plt.xlim(x1.min() ,x1.max())\n",
    "plt.ylim(x2.min() ,x2.max())\n",
    "for i,j in enumerate(np.unique(y_set)):\n",
    "    plt.scatter(x_set[y_set == j ,0], x_set[y_set == j,1],\n",
    "                c= ListedColormap(('red' , 'green'))(i) , label = j)\n",
    "plt.title('Test Set')\n",
    " \n",
    "plt.legend()"
   ]
  },
  {
   "cell_type": "code",
   "execution_count": 48,
   "metadata": {
    "colab": {
     "base_uri": "https://localhost:8080/",
     "height": 33
    },
    "id": "73g44HQrkT3l",
    "outputId": "72834595-7505-402b-fefb-9bb1ec027709"
   },
   "outputs": [
    {
     "data": {
      "text/plain": [
       "0.9"
      ]
     },
     "execution_count": 48,
     "metadata": {},
     "output_type": "execute_result"
    }
   ],
   "source": [
    "metrics.accuracy_score(y_test, y_pred)"
   ]
  },
  {
   "cell_type": "markdown",
   "metadata": {
    "id": "oZXzNz1x5sZT"
   },
   "source": [
    "# sixth example"
   ]
  },
  {
   "cell_type": "code",
   "execution_count": 49,
   "metadata": {
    "colab": {
     "base_uri": "https://localhost:8080/",
     "height": 54
    },
    "id": "gAbqQEPO5bCc",
    "outputId": "4df574c3-c900-4b77-dbab-e9332cc09343"
   },
   "outputs": [
    {
     "data": {
      "text/plain": [
       "array([[108,  23],\n",
       "       [ 45,  16]], dtype=int64)"
      ]
     },
     "execution_count": 49,
     "metadata": {},
     "output_type": "execute_result"
    }
   ],
   "source": [
    "import numpy as np\n",
    "import matplotlib.pyplot as plt\n",
    "import pandas as pd\n",
    "\n",
    "# Importing the dataset\n",
    "dataset = pd.read_csv('LR_df.csv').values\n",
    "X = dataset[:, 0].reshape(-1, 1)\n",
    "y = dataset[:, -1] \n",
    "\n",
    "# Splitting the dataset into the Training set and Test set\n",
    "from sklearn.model_selection import train_test_split\n",
    "X_train, X_test, y_train, y_test = train_test_split(X, y, test_size = 0.25, random_state = 0)\n",
    "# Feature Scaling\n",
    "from sklearn.preprocessing import StandardScaler\n",
    "sc_X = StandardScaler() \n",
    "X_train = sc_X.fit_transform(X_train)\n",
    "X_test = sc_X.transform(X_test)\n",
    "\n",
    "#Fitting Logistic Regresssion to Training Set\n",
    "from sklearn.linear_model import LogisticRegression\n",
    "classifier = LogisticRegression(random_state =0)\n",
    "classifier.fit(X_train,y_train)\n",
    "\n",
    "#Predicting the Test Set Results\n",
    "y_pred = classifier.predict(X_test) \n",
    "\n",
    "#Making the Confusion Matrix\n",
    "from sklearn.metrics import confusion_matrix\n",
    "cm = confusion_matrix(y_test,y_pred)\n",
    "cm\n",
    "\n",
    "\n",
    "      "
   ]
  },
  {
   "cell_type": "code",
   "execution_count": 50,
   "metadata": {
    "colab": {
     "base_uri": "https://localhost:8080/",
     "height": 339
    },
    "id": "LrIqPPpq6j0E",
    "outputId": "e0e2aaf5-b36e-4aa0-d111-990d5769879b"
   },
   "outputs": [
    {
     "data": {
      "text/plain": [
       "<matplotlib.axes._subplots.AxesSubplot at 0x22621485c48>"
      ]
     },
     "execution_count": 50,
     "metadata": {},
     "output_type": "execute_result"
    },
    {
     "data": {
      "image/png": "[encoded data removed]",
      "text/plain": [
       "<Figure size 432x288 with 2 Axes>"
      ]
     },
     "metadata": {
      "needs_background": "light"
     },
     "output_type": "display_data"
    }
   ],
   "source": [
    "import seaborn as sns\n",
    "sns.heatmap(cm, annot=True, cmap='Blues')\n"
   ]
  },
  {
   "cell_type": "code",
   "execution_count": 51,
   "metadata": {
    "id": "PvmxLSQGkYEb"
   },
   "outputs": [
    {
     "data": {
      "text/plain": [
       "0.6458333333333334"
      ]
     },
     "execution_count": 51,
     "metadata": {},
     "output_type": "execute_result"
    }
   ],
   "source": [
    "metrics.accuracy_score(y_test, y_pred)"
   ]
  },
  {
   "cell_type": "code",
   "execution_count": null,
   "metadata": {},
   "outputs": [],
   "source": []
  }
 ],
 "metadata": {
  "colab": {
   "name": " logistic_regression_final.ipynb",
   "provenance": [],
   "toc_visible": true
  },
  "kernelspec": {
   "display_name": "Python 3",
   "language": "python",
   "name": "python3"
  },
  "language_info": {
   "codemirror_mode": {
    "name": "ipython",
    "version": 3
   },
   "file_extension": ".py",
   "mimetype": "text/x-python",
   "name": "python",
   "nbconvert_exporter": "python",
   "pygments_lexer": "ipython3",
   "version": "3.7.6"
  }
 },
 "nbformat": 4,
 "nbformat_minor": 1
}
